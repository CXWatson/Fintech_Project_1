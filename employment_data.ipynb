{
 "cells": [
  {
   "cell_type": "code",
   "execution_count": 188,
   "metadata": {},
   "outputs": [],
   "source": [
    "import os\n",
    "import datetime\n",
    "import requests\n",
    "import json\n",
    "import pandas as pd\n",
    "import hvplot.pandas\n",
    "import plotly.express as px\n",
    "%matplotlib inline\n",
    "headers = {'Content-type': 'application/json'}\n",
    "data = json.dumps({\"seriesid\": ['CEU3231160001'],\"startyear\":\"2019\", \"endyear\":\"2020\", \"registrationkey\":\"3040f2eebdb244b5b9ce84ba21f0c6c9\"})\n",
    "p = requests.post('https://api.bls.gov/publicAPI/v2/timeseries/data/', data=data, headers=headers)\n",
    "json_data = json.loads(p.text)"
   ]
  },
  {
   "cell_type": "code",
   "execution_count": 189,
   "metadata": {},
   "outputs": [
    {
     "data": {
      "text/plain": [
       "{'status': 'REQUEST_SUCCEEDED',\n",
       " 'responseTime': 126,\n",
       " 'message': [],\n",
       " 'Results': {'series': [{'seriesID': 'CEU3231160001',\n",
       "    'data': [{'year': '2020',\n",
       "      'period': 'M03',\n",
       "      'periodName': 'March',\n",
       "      'latest': 'true',\n",
       "      'value': '535.3',\n",
       "      'footnotes': [{'code': 'P', 'text': 'preliminary'}]},\n",
       "     {'year': '2020',\n",
       "      'period': 'M02',\n",
       "      'periodName': 'February',\n",
       "      'value': '536.8',\n",
       "      'footnotes': [{}]},\n",
       "     {'year': '2020',\n",
       "      'period': 'M01',\n",
       "      'periodName': 'January',\n",
       "      'value': '534.2',\n",
       "      'footnotes': [{}]},\n",
       "     {'year': '2019',\n",
       "      'period': 'M12',\n",
       "      'periodName': 'December',\n",
       "      'value': '543.2',\n",
       "      'footnotes': [{}]},\n",
       "     {'year': '2019',\n",
       "      'period': 'M11',\n",
       "      'periodName': 'November',\n",
       "      'value': '545.6',\n",
       "      'footnotes': [{}]},\n",
       "     {'year': '2019',\n",
       "      'period': 'M10',\n",
       "      'periodName': 'October',\n",
       "      'value': '538.6',\n",
       "      'footnotes': [{}]},\n",
       "     {'year': '2019',\n",
       "      'period': 'M09',\n",
       "      'periodName': 'September',\n",
       "      'value': '532.1',\n",
       "      'footnotes': [{}]},\n",
       "     {'year': '2019',\n",
       "      'period': 'M08',\n",
       "      'periodName': 'August',\n",
       "      'value': '531.0',\n",
       "      'footnotes': [{}]},\n",
       "     {'year': '2019',\n",
       "      'period': 'M07',\n",
       "      'periodName': 'July',\n",
       "      'value': '528.0',\n",
       "      'footnotes': [{}]},\n",
       "     {'year': '2019',\n",
       "      'period': 'M06',\n",
       "      'periodName': 'June',\n",
       "      'value': '526.1',\n",
       "      'footnotes': [{}]},\n",
       "     {'year': '2019',\n",
       "      'period': 'M05',\n",
       "      'periodName': 'May',\n",
       "      'value': '523.9',\n",
       "      'footnotes': [{}]},\n",
       "     {'year': '2019',\n",
       "      'period': 'M04',\n",
       "      'periodName': 'April',\n",
       "      'value': '523.9',\n",
       "      'footnotes': [{}]},\n",
       "     {'year': '2019',\n",
       "      'period': 'M03',\n",
       "      'periodName': 'March',\n",
       "      'value': '526.8',\n",
       "      'footnotes': [{}]},\n",
       "     {'year': '2019',\n",
       "      'period': 'M02',\n",
       "      'periodName': 'February',\n",
       "      'value': '529.5',\n",
       "      'footnotes': [{}]},\n",
       "     {'year': '2019',\n",
       "      'period': 'M01',\n",
       "      'periodName': 'January',\n",
       "      'value': '528.3',\n",
       "      'footnotes': [{}]}]}]}}"
      ]
     },
     "execution_count": 189,
     "metadata": {},
     "output_type": "execute_result"
    }
   ],
   "source": [
    "json_data"
   ]
  },
  {
   "cell_type": "code",
   "execution_count": 190,
   "metadata": {},
   "outputs": [
    {
     "data": {
      "text/plain": [
       "[{'year': '2020',\n",
       "  'period': 'M03',\n",
       "  'periodName': 'March',\n",
       "  'latest': 'true',\n",
       "  'value': '535.3',\n",
       "  'footnotes': [{'code': 'P', 'text': 'preliminary'}]},\n",
       " {'year': '2020',\n",
       "  'period': 'M02',\n",
       "  'periodName': 'February',\n",
       "  'value': '536.8',\n",
       "  'footnotes': [{}]},\n",
       " {'year': '2020',\n",
       "  'period': 'M01',\n",
       "  'periodName': 'January',\n",
       "  'value': '534.2',\n",
       "  'footnotes': [{}]},\n",
       " {'year': '2019',\n",
       "  'period': 'M12',\n",
       "  'periodName': 'December',\n",
       "  'value': '543.2',\n",
       "  'footnotes': [{}]},\n",
       " {'year': '2019',\n",
       "  'period': 'M11',\n",
       "  'periodName': 'November',\n",
       "  'value': '545.6',\n",
       "  'footnotes': [{}]},\n",
       " {'year': '2019',\n",
       "  'period': 'M10',\n",
       "  'periodName': 'October',\n",
       "  'value': '538.6',\n",
       "  'footnotes': [{}]},\n",
       " {'year': '2019',\n",
       "  'period': 'M09',\n",
       "  'periodName': 'September',\n",
       "  'value': '532.1',\n",
       "  'footnotes': [{}]},\n",
       " {'year': '2019',\n",
       "  'period': 'M08',\n",
       "  'periodName': 'August',\n",
       "  'value': '531.0',\n",
       "  'footnotes': [{}]},\n",
       " {'year': '2019',\n",
       "  'period': 'M07',\n",
       "  'periodName': 'July',\n",
       "  'value': '528.0',\n",
       "  'footnotes': [{}]},\n",
       " {'year': '2019',\n",
       "  'period': 'M06',\n",
       "  'periodName': 'June',\n",
       "  'value': '526.1',\n",
       "  'footnotes': [{}]},\n",
       " {'year': '2019',\n",
       "  'period': 'M05',\n",
       "  'periodName': 'May',\n",
       "  'value': '523.9',\n",
       "  'footnotes': [{}]},\n",
       " {'year': '2019',\n",
       "  'period': 'M04',\n",
       "  'periodName': 'April',\n",
       "  'value': '523.9',\n",
       "  'footnotes': [{}]},\n",
       " {'year': '2019',\n",
       "  'period': 'M03',\n",
       "  'periodName': 'March',\n",
       "  'value': '526.8',\n",
       "  'footnotes': [{}]},\n",
       " {'year': '2019',\n",
       "  'period': 'M02',\n",
       "  'periodName': 'February',\n",
       "  'value': '529.5',\n",
       "  'footnotes': [{}]},\n",
       " {'year': '2019',\n",
       "  'period': 'M01',\n",
       "  'periodName': 'January',\n",
       "  'value': '528.3',\n",
       "  'footnotes': [{}]}]"
      ]
     },
     "execution_count": 190,
     "metadata": {},
     "output_type": "execute_result"
    }
   ],
   "source": [
    "json_data['Results']['series'][0]['data']"
   ]
  },
  {
   "cell_type": "code",
   "execution_count": 191,
   "metadata": {},
   "outputs": [],
   "source": [
    "year_list=[]\n",
    "month=[]\n",
    "value=[]"
   ]
  },
  {
   "cell_type": "code",
   "execution_count": 192,
   "metadata": {},
   "outputs": [],
   "source": [
    "for items in json_data['Results']['series'][0]['data']:\n",
    "    year_list.append(items['year'])\n",
    "    month.append(items['periodName'])\n",
    "    value.append(items['value'])"
   ]
  },
  {
   "cell_type": "code",
   "execution_count": 193,
   "metadata": {},
   "outputs": [],
   "source": [
    "# print(value)"
   ]
  },
  {
   "cell_type": "code",
   "execution_count": 194,
   "metadata": {},
   "outputs": [],
   "source": [
    "year_df = pd.DataFrame([year_list]).transpose()\n",
    "month_df = pd.DataFrame([month]).transpose()\n",
    "value_df = pd.DataFrame([value]).transpose()"
   ]
  },
  {
   "cell_type": "code",
   "execution_count": 206,
   "metadata": {},
   "outputs": [
    {
     "ename": "AttributeError",
     "evalue": "Cannot access callable attribute 'sort_values' of 'DataFrameGroupBy' objects, try using the 'apply' method",
     "output_type": "error",
     "traceback": [
      "\u001b[1;31m---------------------------------------------------------------------------\u001b[0m",
      "\u001b[1;31mAttributeError\u001b[0m                            Traceback (most recent call last)",
      "\u001b[1;32m<ipython-input-206-cfa2a50bc2a1>\u001b[0m in \u001b[0;36m<module>\u001b[1;34m\u001b[0m\n\u001b[0;32m      4\u001b[0m \u001b[0memployment_data_df\u001b[0m\u001b[1;33m.\u001b[0m\u001b[0mdrop\u001b[0m\u001b[1;33m(\u001b[0m\u001b[0mcolumns\u001b[0m\u001b[1;33m=\u001b[0m\u001b[1;33m[\u001b[0m\u001b[1;34m\"Month\"\u001b[0m\u001b[1;33m]\u001b[0m\u001b[1;33m,\u001b[0m \u001b[0minplace\u001b[0m\u001b[1;33m=\u001b[0m\u001b[1;32mTrue\u001b[0m\u001b[1;33m)\u001b[0m\u001b[1;33m\u001b[0m\u001b[1;33m\u001b[0m\u001b[0m\n\u001b[0;32m      5\u001b[0m \u001b[0memployment_data_df\u001b[0m \u001b[1;33m=\u001b[0m \u001b[0memployment_data_df\u001b[0m\u001b[1;33m.\u001b[0m\u001b[0mgroupby\u001b[0m\u001b[1;33m(\u001b[0m\u001b[1;33m[\u001b[0m\u001b[1;34m'Year'\u001b[0m\u001b[1;33m,\u001b[0m\u001b[1;34m'Month'\u001b[0m\u001b[1;33m]\u001b[0m\u001b[1;33m)\u001b[0m\u001b[1;33m\u001b[0m\u001b[1;33m\u001b[0m\u001b[0m\n\u001b[1;32m----> 6\u001b[1;33m \u001b[0memployment_data_df\u001b[0m\u001b[1;33m.\u001b[0m\u001b[0msort_values\u001b[0m\u001b[1;33m(\u001b[0m\u001b[0mby\u001b[0m\u001b[1;33m=\u001b[0m\u001b[1;33m[\u001b[0m\u001b[1;34m'Year'\u001b[0m\u001b[1;33m]\u001b[0m\u001b[1;33m,\u001b[0m \u001b[0minplace\u001b[0m\u001b[1;33m=\u001b[0m\u001b[1;32mTrue\u001b[0m\u001b[1;33m,\u001b[0m \u001b[0mascending\u001b[0m\u001b[1;33m=\u001b[0m\u001b[1;32mFalse\u001b[0m\u001b[1;33m)\u001b[0m\u001b[1;33m\u001b[0m\u001b[1;33m\u001b[0m\u001b[0m\n\u001b[0m\u001b[0;32m      7\u001b[0m \u001b[0memployment_data_df\u001b[0m\u001b[1;33m.\u001b[0m\u001b[0mhead\u001b[0m\u001b[1;33m(\u001b[0m\u001b[1;33m)\u001b[0m\u001b[1;33m\u001b[0m\u001b[1;33m\u001b[0m\u001b[0m\n",
      "\u001b[1;32m~\\anaconda3\\lib\\site-packages\\pandas\\core\\groupby\\groupby.py\u001b[0m in \u001b[0;36m__getattr__\u001b[1;34m(self, attr)\u001b[0m\n\u001b[0;32m    531\u001b[0m             \u001b[1;32mreturn\u001b[0m \u001b[0mself\u001b[0m\u001b[1;33m[\u001b[0m\u001b[0mattr\u001b[0m\u001b[1;33m]\u001b[0m\u001b[1;33m\u001b[0m\u001b[1;33m\u001b[0m\u001b[0m\n\u001b[0;32m    532\u001b[0m         \u001b[1;32mif\u001b[0m \u001b[0mhasattr\u001b[0m\u001b[1;33m(\u001b[0m\u001b[0mself\u001b[0m\u001b[1;33m.\u001b[0m\u001b[0mobj\u001b[0m\u001b[1;33m,\u001b[0m \u001b[0mattr\u001b[0m\u001b[1;33m)\u001b[0m\u001b[1;33m:\u001b[0m\u001b[1;33m\u001b[0m\u001b[1;33m\u001b[0m\u001b[0m\n\u001b[1;32m--> 533\u001b[1;33m             \u001b[1;32mreturn\u001b[0m \u001b[0mself\u001b[0m\u001b[1;33m.\u001b[0m\u001b[0m_make_wrapper\u001b[0m\u001b[1;33m(\u001b[0m\u001b[0mattr\u001b[0m\u001b[1;33m)\u001b[0m\u001b[1;33m\u001b[0m\u001b[1;33m\u001b[0m\u001b[0m\n\u001b[0m\u001b[0;32m    534\u001b[0m \u001b[1;33m\u001b[0m\u001b[0m\n\u001b[0;32m    535\u001b[0m         raise AttributeError(\"%r object has no attribute %r\" %\n",
      "\u001b[1;32m~\\anaconda3\\lib\\site-packages\\pandas\\core\\groupby\\groupby.py\u001b[0m in \u001b[0;36m_make_wrapper\u001b[1;34m(self, name)\u001b[0m\n\u001b[0;32m    568\u001b[0m                    \"using the 'apply' method\".format(kind, name,\n\u001b[0;32m    569\u001b[0m                                                      type(self).__name__))\n\u001b[1;32m--> 570\u001b[1;33m             \u001b[1;32mraise\u001b[0m \u001b[0mAttributeError\u001b[0m\u001b[1;33m(\u001b[0m\u001b[0mmsg\u001b[0m\u001b[1;33m)\u001b[0m\u001b[1;33m\u001b[0m\u001b[1;33m\u001b[0m\u001b[0m\n\u001b[0m\u001b[0;32m    571\u001b[0m \u001b[1;33m\u001b[0m\u001b[0m\n\u001b[0;32m    572\u001b[0m         \u001b[0mself\u001b[0m\u001b[1;33m.\u001b[0m\u001b[0m_set_group_selection\u001b[0m\u001b[1;33m(\u001b[0m\u001b[1;33m)\u001b[0m\u001b[1;33m\u001b[0m\u001b[1;33m\u001b[0m\u001b[0m\n",
      "\u001b[1;31mAttributeError\u001b[0m: Cannot access callable attribute 'sort_values' of 'DataFrameGroupBy' objects, try using the 'apply' method"
     ]
    }
   ],
   "source": [
    "employment_data_df = pd.concat([year_df, month_df, value_df], axis='columns', join='inner')\n",
    "employment_data_df.columns = [\"Year\", \"Month\", \"Value\"]\n",
    "employment_data_df.set_index(employment_data_df[\"Month\"], inplace=True)\n",
    "employment_data_df.drop(columns=[\"Month\"], inplace=True)\n",
    "employment_data_df = employment_data_df.groupby(['Year','Month']).reset_index()\n",
    "employment_data\n"
   ]
  },
  {
   "cell_type": "code",
   "execution_count": null,
   "metadata": {},
   "outputs": [],
   "source": []
  },
  {
   "cell_type": "code",
   "execution_count": 202,
   "metadata": {},
   "outputs": [
    {
     "ename": "AttributeError",
     "evalue": "Cannot access callable attribute 'astype' of 'DataFrameGroupBy' objects, try using the 'apply' method",
     "output_type": "error",
     "traceback": [
      "\u001b[1;31m---------------------------------------------------------------------------\u001b[0m",
      "\u001b[1;31mAttributeError\u001b[0m                            Traceback (most recent call last)",
      "\u001b[1;32m<ipython-input-202-669d15ecb5d5>\u001b[0m in \u001b[0;36m<module>\u001b[1;34m\u001b[0m\n\u001b[1;32m----> 1\u001b[1;33m \u001b[0memployment_data_df\u001b[0m\u001b[1;33m.\u001b[0m\u001b[0mastype\u001b[0m\u001b[1;33m(\u001b[0m\u001b[1;33m{\u001b[0m\u001b[1;34m'Value'\u001b[0m\u001b[1;33m:\u001b[0m \u001b[1;34m'float'\u001b[0m\u001b[1;33m}\u001b[0m\u001b[1;33m)\u001b[0m\u001b[1;33m.\u001b[0m\u001b[0mdtypes\u001b[0m\u001b[1;33m\u001b[0m\u001b[1;33m\u001b[0m\u001b[0m\n\u001b[0m",
      "\u001b[1;32m~\\anaconda3\\lib\\site-packages\\pandas\\core\\groupby\\groupby.py\u001b[0m in \u001b[0;36m__getattr__\u001b[1;34m(self, attr)\u001b[0m\n\u001b[0;32m    531\u001b[0m             \u001b[1;32mreturn\u001b[0m \u001b[0mself\u001b[0m\u001b[1;33m[\u001b[0m\u001b[0mattr\u001b[0m\u001b[1;33m]\u001b[0m\u001b[1;33m\u001b[0m\u001b[1;33m\u001b[0m\u001b[0m\n\u001b[0;32m    532\u001b[0m         \u001b[1;32mif\u001b[0m \u001b[0mhasattr\u001b[0m\u001b[1;33m(\u001b[0m\u001b[0mself\u001b[0m\u001b[1;33m.\u001b[0m\u001b[0mobj\u001b[0m\u001b[1;33m,\u001b[0m \u001b[0mattr\u001b[0m\u001b[1;33m)\u001b[0m\u001b[1;33m:\u001b[0m\u001b[1;33m\u001b[0m\u001b[1;33m\u001b[0m\u001b[0m\n\u001b[1;32m--> 533\u001b[1;33m             \u001b[1;32mreturn\u001b[0m \u001b[0mself\u001b[0m\u001b[1;33m.\u001b[0m\u001b[0m_make_wrapper\u001b[0m\u001b[1;33m(\u001b[0m\u001b[0mattr\u001b[0m\u001b[1;33m)\u001b[0m\u001b[1;33m\u001b[0m\u001b[1;33m\u001b[0m\u001b[0m\n\u001b[0m\u001b[0;32m    534\u001b[0m \u001b[1;33m\u001b[0m\u001b[0m\n\u001b[0;32m    535\u001b[0m         raise AttributeError(\"%r object has no attribute %r\" %\n",
      "\u001b[1;32m~\\anaconda3\\lib\\site-packages\\pandas\\core\\groupby\\groupby.py\u001b[0m in \u001b[0;36m_make_wrapper\u001b[1;34m(self, name)\u001b[0m\n\u001b[0;32m    568\u001b[0m                    \"using the 'apply' method\".format(kind, name,\n\u001b[0;32m    569\u001b[0m                                                      type(self).__name__))\n\u001b[1;32m--> 570\u001b[1;33m             \u001b[1;32mraise\u001b[0m \u001b[0mAttributeError\u001b[0m\u001b[1;33m(\u001b[0m\u001b[0mmsg\u001b[0m\u001b[1;33m)\u001b[0m\u001b[1;33m\u001b[0m\u001b[1;33m\u001b[0m\u001b[0m\n\u001b[0m\u001b[0;32m    571\u001b[0m \u001b[1;33m\u001b[0m\u001b[0m\n\u001b[0;32m    572\u001b[0m         \u001b[0mself\u001b[0m\u001b[1;33m.\u001b[0m\u001b[0m_set_group_selection\u001b[0m\u001b[1;33m(\u001b[0m\u001b[1;33m)\u001b[0m\u001b[1;33m\u001b[0m\u001b[1;33m\u001b[0m\u001b[0m\n",
      "\u001b[1;31mAttributeError\u001b[0m: Cannot access callable attribute 'astype' of 'DataFrameGroupBy' objects, try using the 'apply' method"
     ]
    }
   ],
   "source": [
    "employment_data_df.astype({'Value': 'float'}).dtypes"
   ]
  },
  {
   "cell_type": "code",
   "execution_count": 181,
   "metadata": {},
   "outputs": [
    {
     "data": {
      "application/vnd.holoviews_exec.v0+json": "",
      "text/html": [
       "<div id='1580'>\n",
       "\n",
       "\n",
       "\n",
       "\n",
       "\n",
       "  <div class=\"bk-root\" id=\"09b78628-28d9-4948-9415-f5708cd8fd19\" data-root-id=\"1580\"></div>\n",
       "</div>\n",
       "<script type=\"application/javascript\">(function(root) {\n",
       "  function embed_document(root) {\n",
       "  var docs_json = {\"a2cec46a-46f9-4700-a196-f60f5d6c3231\":{\"roots\":{\"references\":[{\"attributes\":{\"margin\":[5,5,5,5],\"name\":\"HSpacer02831\",\"sizing_mode\":\"stretch_width\"},\"id\":\"1581\",\"type\":\"Spacer\"},{\"attributes\":{\"line_color\":\"#1f77b3\",\"line_width\":2,\"x\":{\"field\":\"Month\"},\"y\":{\"field\":\"value\"}},\"id\":\"1615\",\"type\":\"Line\"},{\"attributes\":{\"align\":null,\"below\":[{\"id\":\"1594\"}],\"center\":[{\"id\":\"1596\"},{\"id\":\"1599\"}],\"left\":[{\"id\":\"1597\"}],\"margin\":null,\"min_border_bottom\":10,\"min_border_left\":10,\"min_border_right\":10,\"min_border_top\":10,\"plot_height\":300,\"plot_width\":700,\"renderers\":[{\"id\":\"1618\"}],\"sizing_mode\":\"fixed\",\"title\":{\"id\":\"1586\"},\"toolbar\":{\"id\":\"1605\"},\"x_range\":{\"id\":\"1582\"},\"x_scale\":{\"id\":\"1590\"},\"y_range\":{\"id\":\"1583\"},\"y_scale\":{\"id\":\"1592\"}},\"id\":\"1585\",\"subtype\":\"Figure\",\"type\":\"Plot\"},{\"attributes\":{\"data_source\":{\"id\":\"1612\"},\"glyph\":{\"id\":\"1615\"},\"hover_glyph\":null,\"muted_glyph\":{\"id\":\"1617\"},\"nonselection_glyph\":{\"id\":\"1616\"},\"selection_glyph\":null,\"view\":{\"id\":\"1619\"}},\"id\":\"1618\",\"type\":\"GlyphRenderer\"},{\"attributes\":{},\"id\":\"1600\",\"type\":\"SaveTool\"},{\"attributes\":{},\"id\":\"1590\",\"type\":\"CategoricalScale\"},{\"attributes\":{},\"id\":\"1602\",\"type\":\"WheelZoomTool\"},{\"attributes\":{},\"id\":\"1601\",\"type\":\"PanTool\"},{\"attributes\":{\"text\":\"\",\"text_color\":{\"value\":\"black\"},\"text_font_size\":{\"value\":\"12pt\"}},\"id\":\"1586\",\"type\":\"Title\"},{\"attributes\":{\"overlay\":{\"id\":\"1629\"}},\"id\":\"1603\",\"type\":\"BoxZoomTool\"},{\"attributes\":{},\"id\":\"1592\",\"type\":\"CategoricalScale\"},{\"attributes\":{\"callback\":null,\"renderers\":[{\"id\":\"1618\"}],\"tags\":[\"hv_created\"],\"tooltips\":[[\"Month\",\"@{Month}\"],[\"value\",\"@{value}\"]]},\"id\":\"1584\",\"type\":\"HoverTool\"},{\"attributes\":{\"line_alpha\":0.2,\"line_color\":\"#1f77b3\",\"line_width\":2,\"x\":{\"field\":\"Month\"},\"y\":{\"field\":\"value\"}},\"id\":\"1617\",\"type\":\"Line\"},{\"attributes\":{\"data\":{\"Month\":[\"December\",\"November\",\"October\",\"September\",\"August\",\"July\",\"June\",\"May\",\"April\",\"March\",\"February\",\"January\",\"March\",\"February\",\"January\"],\"value\":[\"543.2\",\"545.6\",\"538.6\",\"532.1\",\"531.0\",\"528.0\",\"526.1\",\"523.9\",\"523.9\",\"526.8\",\"529.5\",\"528.3\",\"535.3\",\"536.8\",\"534.2\"]},\"selected\":{\"id\":\"1613\"},\"selection_policy\":{\"id\":\"1630\"}},\"id\":\"1612\",\"type\":\"ColumnDataSource\"},{\"attributes\":{},\"id\":\"1604\",\"type\":\"ResetTool\"},{\"attributes\":{\"source\":{\"id\":\"1612\"}},\"id\":\"1619\",\"type\":\"CDSView\"},{\"attributes\":{\"axis_label\":\"Month\",\"bounds\":\"auto\",\"formatter\":{\"id\":\"1621\"},\"major_label_orientation\":\"horizontal\",\"ticker\":{\"id\":\"1595\"}},\"id\":\"1594\",\"type\":\"CategoricalAxis\"},{\"attributes\":{\"axis\":{\"id\":\"1594\"},\"grid_line_color\":null,\"ticker\":null},\"id\":\"1596\",\"type\":\"Grid\"},{\"attributes\":{},\"id\":\"1595\",\"type\":\"CategoricalTicker\"},{\"attributes\":{\"axis\":{\"id\":\"1597\"},\"dimension\":1,\"grid_line_color\":null,\"ticker\":null},\"id\":\"1599\",\"type\":\"Grid\"},{\"attributes\":{\"line_alpha\":0.1,\"line_color\":\"#1f77b3\",\"line_width\":2,\"x\":{\"field\":\"Month\"},\"y\":{\"field\":\"value\"}},\"id\":\"1616\",\"type\":\"Line\"},{\"attributes\":{\"active_drag\":\"auto\",\"active_inspect\":\"auto\",\"active_multi\":null,\"active_scroll\":\"auto\",\"active_tap\":\"auto\",\"tools\":[{\"id\":\"1584\"},{\"id\":\"1600\"},{\"id\":\"1601\"},{\"id\":\"1602\"},{\"id\":\"1603\"},{\"id\":\"1604\"}]},\"id\":\"1605\",\"type\":\"Toolbar\"},{\"attributes\":{\"axis_label\":\"\",\"bounds\":\"auto\",\"formatter\":{\"id\":\"1623\"},\"major_label_orientation\":\"horizontal\",\"ticker\":{\"id\":\"1598\"}},\"id\":\"1597\",\"type\":\"CategoricalAxis\"},{\"attributes\":{},\"id\":\"1598\",\"type\":\"CategoricalTicker\"},{\"attributes\":{\"factors\":[\"December\",\"November\",\"October\",\"September\",\"August\",\"July\",\"June\",\"May\",\"April\",\"March\",\"February\",\"January\"],\"tags\":[[[\"Month\",\"Month\",null]]]},\"id\":\"1582\",\"type\":\"FactorRange\"},{\"attributes\":{},\"id\":\"1630\",\"type\":\"UnionRenderers\"},{\"attributes\":{},\"id\":\"1613\",\"type\":\"Selection\"},{\"attributes\":{\"bottom_units\":\"screen\",\"fill_alpha\":0.5,\"fill_color\":\"lightgrey\",\"left_units\":\"screen\",\"level\":\"overlay\",\"line_alpha\":1.0,\"line_color\":\"black\",\"line_dash\":[4,4],\"line_width\":2,\"render_mode\":\"css\",\"right_units\":\"screen\",\"top_units\":\"screen\"},\"id\":\"1629\",\"type\":\"BoxAnnotation\"},{\"attributes\":{\"margin\":[5,5,5,5],\"name\":\"HSpacer02832\",\"sizing_mode\":\"stretch_width\"},\"id\":\"1632\",\"type\":\"Spacer\"},{\"attributes\":{\"children\":[{\"id\":\"1581\"},{\"id\":\"1585\"},{\"id\":\"1632\"}],\"margin\":[0,0,0,0],\"name\":\"Row02827\",\"tags\":[\"embedded\"]},\"id\":\"1580\",\"type\":\"Row\"},{\"attributes\":{},\"id\":\"1621\",\"type\":\"CategoricalTickFormatter\"},{\"attributes\":{},\"id\":\"1623\",\"type\":\"CategoricalTickFormatter\"},{\"attributes\":{\"factors\":[\"543.2\",\"545.6\",\"538.6\",\"532.1\",\"531.0\",\"528.0\",\"526.1\",\"523.9\",\"526.8\",\"529.5\",\"528.3\",\"535.3\",\"536.8\",\"534.2\"],\"tags\":[[[\"value\",\"value\",null]]]},\"id\":\"1583\",\"type\":\"FactorRange\"}],\"root_ids\":[\"1580\"]},\"title\":\"Bokeh Application\",\"version\":\"2.0.0\"}};\n",
       "  var render_items = [{\"docid\":\"a2cec46a-46f9-4700-a196-f60f5d6c3231\",\"root_ids\":[\"1580\"],\"roots\":{\"1580\":\"09b78628-28d9-4948-9415-f5708cd8fd19\"}}];\n",
       "  root.Bokeh.embed.embed_items_notebook(docs_json, render_items);\n",
       "  }\n",
       "if (root.Bokeh !== undefined) {\n",
       "    embed_document(root);\n",
       "  } else {\n",
       "    var attempts = 0;\n",
       "    var timer = setInterval(function(root) {\n",
       "      if (root.Bokeh !== undefined) {\n",
       "        clearInterval(timer);\n",
       "        embed_document(root);\n",
       "      } else if (document.readyState == \"complete\") {\n",
       "        attempts++;\n",
       "        if (attempts > 100) {\n",
       "          clearInterval(timer);\n",
       "          console.log(\"Bokeh: ERROR: Unable to run BokehJS code because BokehJS library is missing\");\n",
       "        }\n",
       "      }\n",
       "    }, 10, root)\n",
       "  }\n",
       "})(window);</script>"
      ],
      "text/plain": [
       ":Curve   [Month]   (value)"
      ]
     },
     "execution_count": 181,
     "metadata": {
      "application/vnd.holoviews_exec.v0+json": {
       "id": "1580"
      }
     },
     "output_type": "execute_result"
    }
   ],
   "source": [
    "employment_data_df.hvplot.line('Month')['Value']"
   ]
  },
  {
   "cell_type": "code",
   "execution_count": null,
   "metadata": {},
   "outputs": [],
   "source": []
  },
  {
   "cell_type": "code",
   "execution_count": null,
   "metadata": {},
   "outputs": [],
   "source": []
  }
 ],
 "metadata": {
  "kernelspec": {
   "display_name": "Python 3",
   "language": "python",
   "name": "python3"
  },
  "language_info": {
   "codemirror_mode": {
    "name": "ipython",
    "version": 3
   },
   "file_extension": ".py",
   "mimetype": "text/x-python",
   "name": "python",
   "nbconvert_exporter": "python",
   "pygments_lexer": "ipython3",
   "version": "3.7.6"
  }
 },
 "nbformat": 4,
 "nbformat_minor": 4
}
