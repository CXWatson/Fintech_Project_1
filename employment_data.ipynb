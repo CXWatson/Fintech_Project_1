{
 "cells": [
  {
   "cell_type": "code",
   "execution_count": 77,
   "metadata": {},
   "outputs": [
    {
     "ename": "SyntaxError",
     "evalue": "EOL while scanning string literal (<ipython-input-77-2af9acd570fe>, line 19)",
     "output_type": "error",
     "traceback": [
      "\u001b[1;36m  File \u001b[1;32m\"<ipython-input-77-2af9acd570fe>\"\u001b[1;36m, line \u001b[1;32m19\u001b[0m\n\u001b[1;33m    if 'M01' <= period <= 'M12':'\u001b[0m\n\u001b[1;37m                                 ^\u001b[0m\n\u001b[1;31mSyntaxError\u001b[0m\u001b[1;31m:\u001b[0m EOL while scanning string literal\n"
     ]
    }
   ],
   "source": [
    "import requests\n",
    "import json\n",
    "import prettytable\n",
    "headers = {'Content-type': 'application/json'}\n",
    "data = json.dumps({\"seriesid\": ['CEU3231160001', 'CEU32311613001', 'CEU3231161501'],\"startyear\":\"2019\", \"endyear\":\"2020\"})\n",
    "p = requests.post('https://api.bls.gov/publicAPI/v2/timeseries/data/', data=data, headers=headers)\n",
    "json_data = json.loads(p.text)\n",
    "for series in json_data['Results']['series']:\n",
    "    x=prettytable.PrettyTable([\"series id\",\"year\",\"period\",\"value\",\"footnotes\"])\n",
    "    seriesId = series['seriesID']\n",
    "    for item in series['data']:\n",
    "        year = item['year']\n",
    "        period = item['period']\n",
    "        value = item['value']\n",
    "        footnotes=\"\"\n",
    "        for footnote in item['footnotes']:\n",
    "            if footnote:\n",
    "                footnotes = footnotes + footnote['text'] + ','\n",
    "            if 'M01' <= period <= 'M12':'\n",
    "            x.add_row([seriesId,year,period,value,footnotes[0:-1]])\n",
    "    output = open(seriesId + '.txt','w')\n",
    "    output.write (x.get_string())\n",
    "    output.close()"
   ]
  },
  {
   "cell_type": "code",
   "execution_count": 78,
   "metadata": {},
   "outputs": [],
   "source": [
    "# json_data"
   ]
  },
  {
   "cell_type": "code",
   "execution_count": 76,
   "metadata": {},
   "outputs": [
    {
     "name": "stdout",
     "output_type": "stream",
     "text": [
      "+---------------+------+--------+-------+-------------+\n",
      "|   series id   | year | period | value |  footnotes  |\n",
      "+---------------+------+--------+-------+-------------+\n",
      "| CEU3231161501 | 2020 |  M02   | 250.3 | preliminary |\n",
      "| CEU3231161501 | 2020 |  M01   | 247.7 |             |\n",
      "| CEU3231161501 | 2019 |  M12   | 251.1 |             |\n",
      "| CEU3231161501 | 2019 |  M11   | 255.2 |             |\n",
      "| CEU3231161501 | 2019 |  M10   | 252.2 |             |\n",
      "| CEU3231161501 | 2019 |  M09   | 248.1 |             |\n",
      "| CEU3231161501 | 2019 |  M08   | 246.8 |             |\n",
      "| CEU3231161501 | 2019 |  M07   | 244.1 |             |\n",
      "| CEU3231161501 | 2019 |  M06   | 241.9 |             |\n",
      "| CEU3231161501 | 2019 |  M05   | 240.9 |             |\n",
      "| CEU3231161501 | 2019 |  M04   | 241.7 |             |\n",
      "| CEU3231161501 | 2019 |  M03   | 242.6 |             |\n",
      "| CEU3231161501 | 2019 |  M02   | 244.6 |             |\n",
      "| CEU3231161501 | 2019 |  M01   | 242.4 |             |\n",
      "+---------------+------+--------+-------+-------------+\n"
     ]
    }
   ],
   "source": [
    "print(x)"
   ]
  },
  {
   "cell_type": "code",
   "execution_count": null,
   "metadata": {},
   "outputs": [],
   "source": []
  }
 ],
 "metadata": {
  "kernelspec": {
   "display_name": "Python 3",
   "language": "python",
   "name": "python3"
  },
  "language_info": {
   "codemirror_mode": {
    "name": "ipython",
    "version": 3
   },
   "file_extension": ".py",
   "mimetype": "text/x-python",
   "name": "python",
   "nbconvert_exporter": "python",
   "pygments_lexer": "ipython3",
   "version": "3.7.6"
  }
 },
 "nbformat": 4,
 "nbformat_minor": 4
}
