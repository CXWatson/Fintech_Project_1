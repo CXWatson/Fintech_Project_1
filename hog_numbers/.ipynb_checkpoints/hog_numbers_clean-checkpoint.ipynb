{
 "cells": [
  {
   "cell_type": "code",
   "execution_count": 4,
   "metadata": {},
   "outputs": [
    {
     "name": "stdout",
     "output_type": "stream",
     "text": [
      "['DATE', 'swine_head_count', 'hog_weights', 'hog_tops', 'product_price']\n"
     ]
    }
   ],
   "source": [
    "%run hog_numbers.ipynb"
   ]
  },
  {
   "cell_type": "code",
   "execution_count": 5,
   "metadata": {},
   "outputs": [
    {
     "data": {},
     "metadata": {},
     "output_type": "display_data"
    },
    {
     "data": {
      "application/vnd.holoviews_exec.v0+json": "",
      "text/html": [
       "<div id='1048'>\n",
       "\n",
       "\n",
       "\n",
       "\n",
       "\n",
       "  <div class=\"bk-root\" id=\"c025e8a4-1087-4127-b91e-09e6b7025777\" data-root-id=\"1048\"></div>\n",
       "</div>\n",
       "<script type=\"application/javascript\">\n",
       "    function msg_handler(msg) {\n",
       "      var metadata = msg.metadata;\n",
       "      var buffers = msg.buffers;\n",
       "      var msg = msg.content.data;\n",
       "      if ((metadata.msg_type == \"Ready\")) {\n",
       "        if (metadata.content) {\n",
       "          console.log(\"Python callback returned following output:\", metadata.content);\n",
       "        }\n",
       "      } else if (metadata.msg_type == \"Error\") {\n",
       "        console.log(\"Python failed with the following traceback:\", metadata.traceback)\n",
       "      } else {\n",
       "        \n",
       "var plot_id = \"1048\";\n",
       "\n",
       "if ((plot_id in window.PyViz.plot_index) && (window.PyViz.plot_index[plot_id] != null)) {\n",
       "  var plot = window.PyViz.plot_index[plot_id];\n",
       "} else if ((Bokeh !== undefined) && (plot_id in Bokeh.index)) {\n",
       "  var plot = Bokeh.index[plot_id];\n",
       "}\n",
       "\n",
       "if (plot == null) {\n",
       "  return\n",
       "}\n",
       "\n",
       "if (plot_id in window.PyViz.receivers) {\n",
       "  var receiver = window.PyViz.receivers[plot_id];\n",
       "} else {\n",
       "  var receiver = new Bokeh.protocol.Receiver();\n",
       "  window.PyViz.receivers[plot_id] = receiver;\n",
       "}\n",
       "\n",
       "if ((buffers != undefined) && (buffers.length > 0)) {\n",
       "  receiver.consume(buffers[0].buffer)\n",
       "} else {\n",
       "  receiver.consume(msg)\n",
       "}\n",
       "\n",
       "const comm_msg = receiver.message;\n",
       "if ((comm_msg != null) && (Object.keys(comm_msg.content).length > 0)) {\n",
       "  plot.model.document.apply_json_patch(comm_msg.content, comm_msg.buffers)\n",
       "}\n",
       "\n",
       "      }\n",
       "    }\n",
       "    if ((window.PyViz == undefined) || (!window.PyViz.comm_manager)) {\n",
       "      console.log(\"Could not find comm manager\")\n",
       "    } else {\n",
       "      window.PyViz.comm_manager.register_target('1048', '8542d3ce57184fe0acb3b74956cf3071', msg_handler);\n",
       "    }\n",
       "    \n",
       "(function(root) {\n",
       "  function embed_document(root) {\n",
       "  var docs_json = {\"3ea45dc6-b8bf-40f3-9522-97bae2b36767\":{\"roots\":{\"references\":[{\"attributes\":{\"axis_label\":\"\",\"axis_label_text_font_size\":{\"value\":\"10pt\"},\"bounds\":\"auto\",\"formatter\":{\"id\":\"1095\",\"type\":\"BasicTickFormatter\"},\"major_label_orientation\":\"horizontal\",\"ticker\":{\"id\":\"1068\",\"type\":\"BasicTicker\"}},\"id\":\"1067\",\"type\":\"LinearAxis\"},{\"attributes\":{\"active_drag\":\"auto\",\"active_inspect\":\"auto\",\"active_multi\":null,\"active_scroll\":\"auto\",\"active_tap\":\"auto\",\"tools\":[{\"id\":\"1052\",\"type\":\"HoverTool\"},{\"id\":\"1072\",\"type\":\"SaveTool\"},{\"id\":\"1073\",\"type\":\"PanTool\"},{\"id\":\"1074\",\"type\":\"WheelZoomTool\"},{\"id\":\"1075\",\"type\":\"BoxZoomTool\"},{\"id\":\"1076\",\"type\":\"ResetTool\"}]},\"id\":\"1077\",\"type\":\"Toolbar\"},{\"attributes\":{\"days\":[1,4,7,10,13,16,19,22,25,28]},\"id\":\"1106\",\"type\":\"DaysTicker\"},{\"attributes\":{},\"id\":\"1068\",\"type\":\"BasicTicker\"},{\"attributes\":{\"callback\":null,\"formatters\":{\"@{DATE}\":\"datetime\"},\"renderers\":[{\"id\":\"1090\",\"type\":\"GlyphRenderer\"}],\"tags\":[\"hv_created\"],\"tooltips\":[[\"DATE\",\"@{DATE}{%F %T}\"],[\"product_price\",\"@{product_price}\"]]},\"id\":\"1052\",\"type\":\"HoverTool\"},{\"attributes\":{\"dimension\":1,\"grid_line_color\":null,\"ticker\":{\"id\":\"1068\",\"type\":\"BasicTicker\"}},\"id\":\"1071\",\"type\":\"Grid\"},{\"attributes\":{\"margin\":[5,5,5,5],\"name\":\"HSpacer01902\",\"sizing_mode\":\"stretch_width\"},\"id\":\"1116\",\"type\":\"Spacer\"},{\"attributes\":{\"callback\":null,\"data\":{\"DATE\":{\"__ndarray__\":\"AADADQundkIAAIBzXad2QgAAQNmvp3ZCAACACqeodkIAAEBw+ah2QgAAANZLqXZCAADAO56pdkIAAICh8Kl2QgAAwNLnqnZCAACAODqrdkIAAECejKt2QgAAAATfq3ZCAADAaTGsdkIAAACbKK12QgAAwAB7rXZCAACAZs2tdkIAAEDMH652QgAAADJyrnZCAAAAybuvdkIAAMAuDrB2QgAAgJRgsHZCAABA+rKwdkIAAIArqrF2QgAAQJH8sXZCAAAA906ydkIAAMBcobJ2QgAAgMLzsnZCAADA8+qzdkIAAIBZPbR2QgAAQL+PtHZCAAAAJeK0dkIAAMCKNLV2QgAAALwrtnZCAADAIX62dkIAAICH0LZ2QgAAQO0it3ZCAAAAU3W3dkIAAECEbLh2QgAAAOq+uHZCAADATxG5dkIAAIC1Y7l2QgAAQBu2uXZCAACATK26dkIAAECy/7p2QgAAABhSu3ZCAACA4/a7dkIAAMAU7rx2QgAAgHpAvXZCAABA4JK9dkIAAABG5b12QgAAwKs3vnZCAAAA3S6/dkIAAMBCgb92QgAAgKjTv3ZCAABADibAdkIAAAB0eMB2QgAAQKVvwXZCAAAAC8LBdkIAAMBwFMJ2QgAAgNZmwnZCAABAPLnCdkIAAIBtsMN2QgAAQNMCxHZCAAAAOVXEdkIAAMCep8R2QgAAgAT6xHZCAADANfHFdkIAAICbQ8Z2QgAAQAGWxnZCAAAAZ+jGdkIAAMDMOsd2QgAAAP4xyHZCAADAY4TIdkIAAIDJ1sh2QgAAQC8pyXZCAAAAlXvJdkIAAEDGcsp2QgAAACzFynZCAADAkRfLdkIAAID3act2QgAAQF28y3ZCAACAjrPMdkIAAED0Bc12QgAAAFpYzXZCAADAv6rNdkIAAIAl/c12QgAAgLxGz3ZCAABAIpnPdkIAAACI6892QgAAwO090HZCAAAAHzXRdkIAAMCEh9F2QgAAgOrZ0XZCAABAUCzSdkIAAAC2ftJ2QgAAQOd103ZCAAAATcjTdkIAAMCyGtR2QgAAgBht1HZCAABAfr/UdkIAAICvttV2QgAAQBUJ1nZCAAAAe1vWdkIAAMDgrdZ2QgAAgEYA13ZCAADAd/fXdkIAAIDdSdh2QgAAQEOc2HZCAAAAqe7YdkIAAMAOQdl2QgAAAEA42nZCAADApYradkIAAIAL3dp2QgAAQHEv23ZCAAAA14HbdkIAAEAIedx2QgAAAG7L3HZCAADA0x3ddkIAAIA5cN12QgAAQJ/C3XZCAACA0LnedkIAAEA2DN92QgAAAJxe33ZCAADAAbHfdkIAAIBnA+B2QgAAwJj64HZCAACA/kzhdkIAAEBkn+F2QgAAAMrx4XZCAADAL0TidkIAAABhO+N2QgAAwMaN43ZCAACALODjdkIAAECSMuR2QgAAAPiE5HZCAABAKXzldkIAAACPzuV2QgAAwPQg5nZCAACAWnPmdkIAAEDAxeZ2QgAAgPG853ZCAABAVw/odkIAAAC9Yeh2QgAAwCK06HZCAACAiAbpdkIAAMC5/el2QgAAgB9Q6nZCAABAhaLqdkIAAMBQR+t2QgAAAII+7HZCAADA55DsdkIAAIBN4+x2QgAAQLM17XZCAAAAGYjtdkIAAEBKf+52QgAAALDR7nZCAADAFSTvdkIAAIB7du92QgAAQOHI73ZCAACAEsDwdkIAAEB4EvF2QgAAAN5k8XZCAADAQ7fxdkIAAICpCfJ2QgAAwNoA83ZCAACAQFPzdkIAAAAM+PN2QgAAwHFK9HZCAAAAo0H1dkIAAMAIlPV2QgAAQNQ49nZCAAAAOov2dkIAAEBrgvd2QgAAANHU93ZCAADANif4dkIAAICcefh2QgAAQALM+HZCAACAM8P5dkIAAECZFfp2QgAAAP9n+nZCAADAZLr6dkIAAIDKDPt2QgAAgGFW/HZCAABAx6j8dkIAAAAt+/x2QgAAwJJN/XZCAAAAxET+dkIAAMApl/52QgAAgI/p/nZCAABA9Tv/dkIAAABbjv92QgAAQIyFAHdCAAAA8tcAd0IAAMBXKgF3QgAAgL18AXdCAABAI88Bd0IAAIBUxgJ3QgAAQLoYA3dCAAAAIGsDd0IAAMCFvQN3QgAAgOsPBHdCAACAglkFd0IAAEDoqwV3QgAAAE7+BXdCAADAs1AGd0IAAADlRwd3QgAAwEqaB3dCAACAsOwHd0IAAEAWPwh3QgAAAHyRCHdCAABArYgJd0IAAAAT2wl3QgAAwHgtCndCAACA3n8Kd0IAAEBE0gp3QgAAgHXJC3dCAABA2xsMd0IAAABBbgx3QgAAwKbADHdCAACADBMNd0IAAMA9Cg53QgAAgKNcDndCAABACa8Od0IAAABvAQ93QgAAwNRTD3dCAAAABksQd0IAAMBrnRB3QgAAgNHvEHdCAABAN0IRd0IAAACdlBF3QgAAQM6LEndCAAAANN4Sd0IAAMCZMBN3QgAAgP+CE3dCAABAZdUTd0IAAICWzBR3QgAAQPweFXdCAAAAYnEVd0IAAMDHwxV3QgAAwF4NF3dCAACAxF8Xd0IAAEAqshd3QgAAAJAEGHdCAADA9VYYd0IAAAAnThl3QgAAwIygGXdCAACA8vIZd0IAAEBYRRp3QgAAAL6XGndCAABA744bd0IAAABV4Rt3QgAAwLozHHdCAACAIIYcd0IAAECG2Bx3QgAAgLfPHXdCAABAHSIed0IAAACDdB53QgAAwOjGHndCAACAThkfd0I=\",\"dtype\":\"float64\",\"shape\":[259]},\"product_price\":{\"__ndarray__\":\"j8L1KFx/VEB7FK5H4fpUQHE9CtejgFRAKVyPwvW4VEB7FK5H4WpVQFyPwvUoPFVAFK5H4Xq0VUAK16NwPYpVQI/C9ShcD1ZAKVyPwvUoVkCkcD0K17NVQLgehetRiFVA4XoUrkdRVUBSuB6F66FVQBSuR+F6xFVAhetRuB41VUBI4XoUrqdUQOF6FK5H0VRAPQrXo3B9VUAfhetRuB5VQGZmZmZmdlRA7FG4HoWrVEAK16NwPTpVQJqZmZmZ6VRAFK5H4XrEVEAAAAAAANBUQIXrUbgexVRApHA9CtcDVUBxPQrXo/BUQHE9CtejoFRAcT0K16PAVEA9CtejcM1UQK5H4XoUvlRAmpmZmZlJVEBcj8L1KGxTQFyPwvUoXFNAH4XrUbguU0AK16NwPWpTQIXrUbge5VJArkfhehR+UkBcj8L1KIxSQPYoXI/CdVJAUrgehetRUkA9CtejcE1SQB+F61G43lFAexSuR+FKUkC4HoXrUfhRQOF6FK5HcVJAZmZmZmbmUUB7FK5H4QpSQJqZmZmZ6VFAmpmZmZk5UkAzMzMzM/NSQB+F61G4HlNAZmZmZmYmU0BSuB6F66FTQNejcD0KJ1RA16NwPQonVEDsUbgehVtUQLgehetR+FRAuB6F61EYVUDD9ShcjwJVQPYoXI/CxVVAMzMzMzPjVUDD9Shcj/JVQClcj8L1qFVAuB6F61EIVkAfhetRuC5WQJqZmZmZGVZAXI/C9SgsVkBcj8L1KJxWQFyPwvUojFZAPQrXo3BNVkCamZmZmTlWQB+F61G4DlZAcT0K16OQVUAfhetRuD5VQArXo3A9+lRAj8L1KFxPVEBcj8L1KPxTQJqZmZmZ6VNAj8L1KFy/U0AUrkfheoRSQHE9CtejAFJApHA9CtfjUUCkcD0K1xNSQGZmZmZmplJA16NwPQo3UkA9CtejcP1RQBSuR+F6VFJACtejcD36UUCPwvUoXP9RQM3MzMzMHFJArkfhehSeUUA9CtejcA1RQArXo3A9KlFAPQrXo3ANUUDXo3A9CgdRQOF6FK5HQVFAmpmZmZlJUUDsUbgehYtRQI/C9Shcb1FACtejcD2aUUBxPQrXowBSQHE9CtejUFJAH4XrUbhuUkDD9Shcj9JSQEjhehSuh1JA16NwPQrXUkB7FK5H4cpSQAAAAAAAcFNAzczMzMxcU0BxPQrXowBTQArXo3A9OlNA4XoUrkdhU0Bcj8L1KHxTQKRwPQrXg1NArkfhehRuU0BSuB6F6xFTQFK4HoXrQVNAUrgeheuhU0BmZmZmZgZTQMP1KFyPwlJAUrgeheuhUkCkcD0K1yNTQFK4HoXrAVNArkfhehQuU0Bcj8L1KNxSQDMzMzMzA1NAKVyPwvXoUkAAAAAAALBTQAAAAAAA4FNAXI/C9Sg8VEApXI/C9ShUQHsUrkfhqlRA9ihcj8KVVUBSuB6F6yFWQOF6FK5HwVVAw/UoXI/CVUCF61G4HuVVQClcj8L1SFZAexSuR+EqVUCF61G4HqVVQK5H4XoUXlRAFK5H4XrEVEBxPQrXowBVQHE9CtejkFRAH4XrUbj+U0BmZmZmZnZUQNejcD0Kt1RA16NwPQonVEAAAAAAAEBUQNejcD0KV1RAhetRuB6FVEAfhetRuH5UQEjhehSux1RAXI/C9SjMVEAK16NwPWpUQLgehetReFRApHA9CtfjU0CkcD0K17NTQMP1KFyPUlNAPQrXo3AtU0DD9ShcjyJTQIXrUbgeNVNA4XoUrkeRU0BSuB6F6/FSQMP1KFyPwlJAAAAAAACwUkDhehSuR0FSQGZmZmZmdlJArkfhehSOUkBxPQrXo7BSQI/C9ShcX1JAj8L1KFwvUkCF61G4HjVSQAAAAAAAIFJAj8L1KFyPUkDD9Shcj5JSQJqZmZmZqVJAzczMzMzcUkCuR+F6FN5SQNejcD0KR1NAexSuR+F6U0CPwvUoXK9TQLgehetRWFNAcT0K16NQU0C4HoXrUfhSQClcj8L12FFAmpmZmZm5UUAUrkfhemRRQPYoXI/CdVFAuB6F61EIUUAzMzMzM1NQQGZmZmZmVlBApHA9CtczUEDhehSuR0FQQDMzMzMz009AexSuR+H6T0DNzMzMzIxPQAAAAAAAYE9AcT0K16NAUEBxPQrXowBQQFyPwvUoHFBAAAAAAABAUEAUrkfhepRQQK5H4XoUflBAj8L1KFwfUEDD9ShcjxJQQEjhehSuB1BAMzMzMzOjUEAzMzMzM4NQQI/C9Shcb1BAw/UoXI/CUEDXo3A9CrdQQM3MzMzM/FBAPQrXo3D9UEAUrkfhejRRQFyPwvUoTFFA9ihcj8J1UUC4HoXrUVhSQHsUrkfhmlJAmpmZmZm5UkDsUbgehbtTQMP1KFyPAlRAcT0K16PgVEAzMzMzM4NUQFK4HoXrwVNA16NwPQpnU0DD9Shcj3JSQD0K16NwrVFAw/UoXI9CUEBmZmZmZgZPQHsUrkfhmk1Aj8L1KFyvTEC4HoXrUdhMQD0K16NwXUtA9ihcj8K1SUDNzMzMzGxKQI/C9Shcb0pAKVyPwvWISkDNzMzMzAxKQK5H4XoU7ktAcT0K16MQTkDsUbgehatQQM3MzMzMfFFAH4XrUbg+UkBI4XoUrhdTQB+F61G4XlNAPQrXo3DtVECPwvUoXB9WQB+F61G4rlZArkfhehQuWUDXo3A9CqdaQKRwPQrX81pAhetRuB5lXECkcD0K18NcQI/C9ShcL11AAAAAAAAgXUA=\",\"dtype\":\"float64\",\"shape\":[259]}},\"selected\":{\"id\":\"1085\",\"type\":\"Selection\"},\"selection_policy\":{\"id\":\"1114\",\"type\":\"UnionRenderers\"}},\"id\":\"1084\",\"type\":\"ColumnDataSource\"},{\"attributes\":{\"days\":[1,8,15,22]},\"id\":\"1107\",\"type\":\"DaysTicker\"},{\"attributes\":{\"days\":[1,15]},\"id\":\"1108\",\"type\":\"DaysTicker\"},{\"attributes\":{\"months\":[0,1,2,3,4,5,6,7,8,9,10,11]},\"id\":\"1109\",\"type\":\"MonthsTicker\"},{\"attributes\":{\"bottom_units\":\"screen\",\"fill_alpha\":{\"value\":0.5},\"fill_color\":{\"value\":\"lightgrey\"},\"left_units\":\"screen\",\"level\":\"overlay\",\"line_alpha\":{\"value\":1.0},\"line_color\":{\"value\":\"black\"},\"line_dash\":[4,4],\"line_width\":{\"value\":2},\"render_mode\":\"css\",\"right_units\":\"screen\",\"top_units\":\"screen\"},\"id\":\"1101\",\"type\":\"BoxAnnotation\"},{\"attributes\":{\"data_source\":{\"id\":\"1084\",\"type\":\"ColumnDataSource\"},\"glyph\":{\"id\":\"1087\",\"type\":\"Line\"},\"hover_glyph\":null,\"muted_glyph\":{\"id\":\"1089\",\"type\":\"Line\"},\"nonselection_glyph\":{\"id\":\"1088\",\"type\":\"Line\"},\"selection_glyph\":null,\"view\":{\"id\":\"1091\",\"type\":\"CDSView\"}},\"id\":\"1090\",\"type\":\"GlyphRenderer\"},{\"attributes\":{\"children\":[{\"id\":\"1049\",\"type\":\"Spacer\"},{\"id\":\"1053\",\"subtype\":\"Figure\",\"type\":\"Plot\"},{\"id\":\"1116\",\"type\":\"Spacer\"}],\"margin\":[0,0,0,0],\"name\":\"Row01897\",\"tags\":[\"embedded\"]},\"id\":\"1048\",\"type\":\"Row\"},{\"attributes\":{\"base\":24,\"mantissas\":[1,2,4,6,8,12],\"max_interval\":43200000.0,\"min_interval\":3600000.0,\"num_minor_ticks\":0},\"id\":\"1104\",\"type\":\"AdaptiveTicker\"},{\"attributes\":{\"months\":[0,2,4,6,8,10]},\"id\":\"1110\",\"type\":\"MonthsTicker\"},{\"attributes\":{\"align\":null,\"below\":[{\"id\":\"1062\",\"type\":\"DatetimeAxis\"}],\"center\":[{\"id\":\"1066\",\"type\":\"Grid\"},{\"id\":\"1071\",\"type\":\"Grid\"}],\"left\":[{\"id\":\"1067\",\"type\":\"LinearAxis\"}],\"margin\":null,\"min_border_bottom\":10,\"min_border_left\":10,\"min_border_right\":10,\"min_border_top\":10,\"plot_height\":400,\"plot_width\":500,\"renderers\":[{\"id\":\"1090\",\"type\":\"GlyphRenderer\"}],\"sizing_mode\":\"fixed\",\"title\":{\"id\":\"1054\",\"type\":\"Title\"},\"toolbar\":{\"id\":\"1077\",\"type\":\"Toolbar\"},\"x_range\":{\"id\":\"1050\",\"type\":\"Range1d\"},\"x_scale\":{\"id\":\"1058\",\"type\":\"LinearScale\"},\"y_range\":{\"id\":\"1051\",\"type\":\"Range1d\"},\"y_scale\":{\"id\":\"1060\",\"type\":\"LinearScale\"}},\"id\":\"1053\",\"subtype\":\"Figure\",\"type\":\"Plot\"},{\"attributes\":{\"line_alpha\":0.2,\"line_color\":\"#1f77b3\",\"line_width\":2,\"x\":{\"field\":\"DATE\"},\"y\":{\"field\":\"product_price\"}},\"id\":\"1089\",\"type\":\"Line\"},{\"attributes\":{},\"id\":\"1072\",\"type\":\"SaveTool\"},{\"attributes\":{},\"id\":\"1085\",\"type\":\"Selection\"},{\"attributes\":{},\"id\":\"1074\",\"type\":\"WheelZoomTool\"},{\"attributes\":{\"months\":[0,4,8]},\"id\":\"1111\",\"type\":\"MonthsTicker\"},{\"attributes\":{\"text\":\"product_price\",\"text_color\":{\"value\":\"black\"},\"text_font_size\":{\"value\":\"12pt\"}},\"id\":\"1054\",\"type\":\"Title\"},{\"attributes\":{},\"id\":\"1073\",\"type\":\"PanTool\"},{\"attributes\":{\"margin\":[5,5,5,5],\"name\":\"HSpacer01901\",\"sizing_mode\":\"stretch_width\"},\"id\":\"1049\",\"type\":\"Spacer\"},{\"attributes\":{\"overlay\":{\"id\":\"1101\",\"type\":\"BoxAnnotation\"}},\"id\":\"1075\",\"type\":\"BoxZoomTool\"},{\"attributes\":{},\"id\":\"1060\",\"type\":\"LinearScale\"},{\"attributes\":{\"months\":[0,6]},\"id\":\"1112\",\"type\":\"MonthsTicker\"},{\"attributes\":{},\"id\":\"1093\",\"type\":\"DatetimeTickFormatter\"},{\"attributes\":{\"line_color\":\"#1f77b3\",\"line_width\":2,\"x\":{\"field\":\"DATE\"},\"y\":{\"field\":\"product_price\"}},\"id\":\"1087\",\"type\":\"Line\"},{\"attributes\":{},\"id\":\"1113\",\"type\":\"YearsTicker\"},{\"attributes\":{},\"id\":\"1076\",\"type\":\"ResetTool\"},{\"attributes\":{\"base\":60,\"mantissas\":[1,2,5,10,15,20,30],\"max_interval\":1800000.0,\"min_interval\":1000.0,\"num_minor_ticks\":0},\"id\":\"1103\",\"type\":\"AdaptiveTicker\"},{\"attributes\":{\"source\":{\"id\":\"1084\",\"type\":\"ColumnDataSource\"}},\"id\":\"1091\",\"type\":\"CDSView\"},{\"attributes\":{},\"id\":\"1058\",\"type\":\"LinearScale\"},{\"attributes\":{},\"id\":\"1114\",\"type\":\"UnionRenderers\"},{\"attributes\":{\"callback\":null,\"end\":1588896000000.0,\"reset_end\":1588896000000.0,\"reset_start\":1556668800000.0,\"start\":1556668800000.0,\"tags\":[[[\"DATE\",\"DATE\",null]]]},\"id\":\"1050\",\"type\":\"Range1d\"},{\"attributes\":{\"grid_line_color\":null,\"ticker\":{\"id\":\"1063\",\"type\":\"DatetimeTicker\"}},\"id\":\"1066\",\"type\":\"Grid\"},{\"attributes\":{\"line_alpha\":0.1,\"line_color\":\"#1f77b3\",\"line_width\":2,\"x\":{\"field\":\"DATE\"},\"y\":{\"field\":\"product_price\"}},\"id\":\"1088\",\"type\":\"Line\"},{\"attributes\":{\"axis_label\":\"DATE\",\"axis_label_text_font_size\":{\"value\":\"10pt\"},\"bounds\":\"auto\",\"formatter\":{\"id\":\"1093\",\"type\":\"DatetimeTickFormatter\"},\"major_label_orientation\":\"horizontal\",\"ticker\":{\"id\":\"1063\",\"type\":\"DatetimeTicker\"}},\"id\":\"1062\",\"type\":\"DatetimeAxis\"},{\"attributes\":{\"days\":[1,2,3,4,5,6,7,8,9,10,11,12,13,14,15,16,17,18,19,20,21,22,23,24,25,26,27,28,29,30,31]},\"id\":\"1105\",\"type\":\"DaysTicker\"},{\"attributes\":{\"callback\":null,\"end\":123.27199999999999,\"reset_end\":123.27199999999999,\"reset_start\":44.888000000000005,\"start\":44.888000000000005,\"tags\":[[[\"product_price\",\"product_price\",null]]]},\"id\":\"1051\",\"type\":\"Range1d\"},{\"attributes\":{},\"id\":\"1095\",\"type\":\"BasicTickFormatter\"},{\"attributes\":{\"num_minor_ticks\":5,\"tickers\":[{\"id\":\"1102\",\"type\":\"AdaptiveTicker\"},{\"id\":\"1103\",\"type\":\"AdaptiveTicker\"},{\"id\":\"1104\",\"type\":\"AdaptiveTicker\"},{\"id\":\"1105\",\"type\":\"DaysTicker\"},{\"id\":\"1106\",\"type\":\"DaysTicker\"},{\"id\":\"1107\",\"type\":\"DaysTicker\"},{\"id\":\"1108\",\"type\":\"DaysTicker\"},{\"id\":\"1109\",\"type\":\"MonthsTicker\"},{\"id\":\"1110\",\"type\":\"MonthsTicker\"},{\"id\":\"1111\",\"type\":\"MonthsTicker\"},{\"id\":\"1112\",\"type\":\"MonthsTicker\"},{\"id\":\"1113\",\"type\":\"YearsTicker\"}]},\"id\":\"1063\",\"type\":\"DatetimeTicker\"},{\"attributes\":{\"mantissas\":[1,2,5],\"max_interval\":500.0,\"num_minor_ticks\":0},\"id\":\"1102\",\"type\":\"AdaptiveTicker\"}],\"root_ids\":[\"1048\"]},\"title\":\"Bokeh Application\",\"version\":\"1.4.0\"}};\n",
       "  var render_items = [{\"docid\":\"3ea45dc6-b8bf-40f3-9522-97bae2b36767\",\"roots\":{\"1048\":\"c025e8a4-1087-4127-b91e-09e6b7025777\"}}];\n",
       "  root.Bokeh.embed.embed_items_notebook(docs_json, render_items);\n",
       "  }\n",
       "if (root.Bokeh !== undefined) {\n",
       "    embed_document(root);\n",
       "  } else {\n",
       "    var attempts = 0;\n",
       "    var timer = setInterval(function(root) {\n",
       "      if (root.Bokeh !== undefined) {\n",
       "        clearInterval(timer);\n",
       "        embed_document(root);\n",
       "      } else if (document.readyState == \"complete\") {\n",
       "        attempts++;\n",
       "        if (attempts > 100) {\n",
       "          clearInterval(timer);\n",
       "          console.log(\"Bokeh: ERROR: Unable to run BokehJS code because BokehJS library is missing\");\n",
       "        }\n",
       "      }\n",
       "    }, 10, root)\n",
       "  }\n",
       "})(window);</script>"
      ],
      "text/plain": [
       ":Curve   [DATE]   (product_price)"
      ]
     },
     "execution_count": 5,
     "metadata": {
      "application/vnd.holoviews_exec.v0+json": {
       "id": "1048"
      }
     },
     "output_type": "execute_result"
    }
   ],
   "source": [
    "product_price.hvplot(height=400, width=500)"
   ]
  },
  {
   "cell_type": "code",
   "execution_count": 6,
   "metadata": {},
   "outputs": [
    {
     "data": {},
     "metadata": {},
     "output_type": "display_data"
    },
    {
     "data": {
      "application/vnd.holoviews_exec.v0+json": "",
      "text/html": [
       "<div id='1218'>\n",
       "\n",
       "\n",
       "\n",
       "\n",
       "\n",
       "  <div class=\"bk-root\" id=\"6d62bb62-8905-4a53-9bc5-2bafeebaae8d\" data-root-id=\"1218\"></div>\n",
       "</div>\n",
       "<script type=\"application/javascript\">\n",
       "    function msg_handler(msg) {\n",
       "      var metadata = msg.metadata;\n",
       "      var buffers = msg.buffers;\n",
       "      var msg = msg.content.data;\n",
       "      if ((metadata.msg_type == \"Ready\")) {\n",
       "        if (metadata.content) {\n",
       "          console.log(\"Python callback returned following output:\", metadata.content);\n",
       "        }\n",
       "      } else if (metadata.msg_type == \"Error\") {\n",
       "        console.log(\"Python failed with the following traceback:\", metadata.traceback)\n",
       "      } else {\n",
       "        \n",
       "var plot_id = \"1218\";\n",
       "\n",
       "if ((plot_id in window.PyViz.plot_index) && (window.PyViz.plot_index[plot_id] != null)) {\n",
       "  var plot = window.PyViz.plot_index[plot_id];\n",
       "} else if ((Bokeh !== undefined) && (plot_id in Bokeh.index)) {\n",
       "  var plot = Bokeh.index[plot_id];\n",
       "}\n",
       "\n",
       "if (plot == null) {\n",
       "  return\n",
       "}\n",
       "\n",
       "if (plot_id in window.PyViz.receivers) {\n",
       "  var receiver = window.PyViz.receivers[plot_id];\n",
       "} else {\n",
       "  var receiver = new Bokeh.protocol.Receiver();\n",
       "  window.PyViz.receivers[plot_id] = receiver;\n",
       "}\n",
       "\n",
       "if ((buffers != undefined) && (buffers.length > 0)) {\n",
       "  receiver.consume(buffers[0].buffer)\n",
       "} else {\n",
       "  receiver.consume(msg)\n",
       "}\n",
       "\n",
       "const comm_msg = receiver.message;\n",
       "if ((comm_msg != null) && (Object.keys(comm_msg.content).length > 0)) {\n",
       "  plot.model.document.apply_json_patch(comm_msg.content, comm_msg.buffers)\n",
       "}\n",
       "\n",
       "      }\n",
       "    }\n",
       "    if ((window.PyViz == undefined) || (!window.PyViz.comm_manager)) {\n",
       "      console.log(\"Could not find comm manager\")\n",
       "    } else {\n",
       "      window.PyViz.comm_manager.register_target('1218', '31e4d42059154bd783151ebef5bcc01e', msg_handler);\n",
       "    }\n",
       "    \n",
       "(function(root) {\n",
       "  function embed_document(root) {\n",
       "  var docs_json = {\"89850ec5-c1ef-4be1-abdd-9b8d5bc72664\":{\"roots\":{\"references\":[{\"attributes\":{\"data_source\":{\"id\":\"1254\",\"type\":\"ColumnDataSource\"},\"glyph\":{\"id\":\"1257\",\"type\":\"Line\"},\"hover_glyph\":null,\"muted_glyph\":{\"id\":\"1259\",\"type\":\"Line\"},\"nonselection_glyph\":{\"id\":\"1258\",\"type\":\"Line\"},\"selection_glyph\":null,\"view\":{\"id\":\"1261\",\"type\":\"CDSView\"}},\"id\":\"1260\",\"type\":\"GlyphRenderer\"},{\"attributes\":{\"bottom_units\":\"screen\",\"fill_alpha\":{\"value\":0.5},\"fill_color\":{\"value\":\"lightgrey\"},\"left_units\":\"screen\",\"level\":\"overlay\",\"line_alpha\":{\"value\":1.0},\"line_color\":{\"value\":\"black\"},\"line_dash\":[4,4],\"line_width\":{\"value\":2},\"render_mode\":\"css\",\"right_units\":\"screen\",\"top_units\":\"screen\"},\"id\":\"1271\",\"type\":\"BoxAnnotation\"},{\"attributes\":{\"children\":[{\"id\":\"1219\",\"type\":\"Spacer\"},{\"id\":\"1223\",\"subtype\":\"Figure\",\"type\":\"Plot\"},{\"id\":\"1286\",\"type\":\"Spacer\"}],\"margin\":[0,0,0,0],\"name\":\"Row02060\",\"tags\":[\"embedded\"]},\"id\":\"1218\",\"type\":\"Row\"},{\"attributes\":{\"text\":\"hog_tops\",\"text_color\":{\"value\":\"black\"},\"text_font_size\":{\"value\":\"12pt\"}},\"id\":\"1224\",\"type\":\"Title\"},{\"attributes\":{},\"id\":\"1255\",\"type\":\"Selection\"},{\"attributes\":{\"active_drag\":\"auto\",\"active_inspect\":\"auto\",\"active_multi\":null,\"active_scroll\":\"auto\",\"active_tap\":\"auto\",\"tools\":[{\"id\":\"1222\",\"type\":\"HoverTool\"},{\"id\":\"1242\",\"type\":\"SaveTool\"},{\"id\":\"1243\",\"type\":\"PanTool\"},{\"id\":\"1244\",\"type\":\"WheelZoomTool\"},{\"id\":\"1245\",\"type\":\"BoxZoomTool\"},{\"id\":\"1246\",\"type\":\"ResetTool\"}]},\"id\":\"1247\",\"type\":\"Toolbar\"},{\"attributes\":{\"days\":[1,2,3,4,5,6,7,8,9,10,11,12,13,14,15,16,17,18,19,20,21,22,23,24,25,26,27,28,29,30,31]},\"id\":\"1275\",\"type\":\"DaysTicker\"},{\"attributes\":{\"dimension\":1,\"grid_line_color\":null,\"ticker\":{\"id\":\"1238\",\"type\":\"BasicTicker\"}},\"id\":\"1241\",\"type\":\"Grid\"},{\"attributes\":{},\"id\":\"1230\",\"type\":\"LinearScale\"},{\"attributes\":{\"base\":60,\"mantissas\":[1,2,5,10,15,20,30],\"max_interval\":1800000.0,\"min_interval\":1000.0,\"num_minor_ticks\":0},\"id\":\"1273\",\"type\":\"AdaptiveTicker\"},{\"attributes\":{\"months\":[0,4,8]},\"id\":\"1281\",\"type\":\"MonthsTicker\"},{\"attributes\":{},\"id\":\"1243\",\"type\":\"PanTool\"},{\"attributes\":{},\"id\":\"1238\",\"type\":\"BasicTicker\"},{\"attributes\":{\"months\":[0,2,4,6,8,10]},\"id\":\"1280\",\"type\":\"MonthsTicker\"},{\"attributes\":{\"callback\":null,\"end\":1588896000000.0,\"reset_end\":1588896000000.0,\"reset_start\":1556668800000.0,\"start\":1556668800000.0,\"tags\":[[[\"DATE\",\"DATE\",null]]]},\"id\":\"1220\",\"type\":\"Range1d\"},{\"attributes\":{},\"id\":\"1228\",\"type\":\"LinearScale\"},{\"attributes\":{\"base\":24,\"mantissas\":[1,2,4,6,8,12],\"max_interval\":43200000.0,\"min_interval\":3600000.0,\"num_minor_ticks\":0},\"id\":\"1274\",\"type\":\"AdaptiveTicker\"},{\"attributes\":{\"num_minor_ticks\":5,\"tickers\":[{\"id\":\"1272\",\"type\":\"AdaptiveTicker\"},{\"id\":\"1273\",\"type\":\"AdaptiveTicker\"},{\"id\":\"1274\",\"type\":\"AdaptiveTicker\"},{\"id\":\"1275\",\"type\":\"DaysTicker\"},{\"id\":\"1276\",\"type\":\"DaysTicker\"},{\"id\":\"1277\",\"type\":\"DaysTicker\"},{\"id\":\"1278\",\"type\":\"DaysTicker\"},{\"id\":\"1279\",\"type\":\"MonthsTicker\"},{\"id\":\"1280\",\"type\":\"MonthsTicker\"},{\"id\":\"1281\",\"type\":\"MonthsTicker\"},{\"id\":\"1282\",\"type\":\"MonthsTicker\"},{\"id\":\"1283\",\"type\":\"YearsTicker\"}]},\"id\":\"1233\",\"type\":\"DatetimeTicker\"},{\"attributes\":{\"callback\":null,\"end\":93.5,\"reset_end\":93.5,\"reset_start\":27.5,\"start\":27.5,\"tags\":[[[\"hog_tops\",\"hog_tops\",null]]]},\"id\":\"1221\",\"type\":\"Range1d\"},{\"attributes\":{\"grid_line_color\":null,\"ticker\":{\"id\":\"1233\",\"type\":\"DatetimeTicker\"}},\"id\":\"1236\",\"type\":\"Grid\"},{\"attributes\":{\"callback\":null,\"data\":{\"DATE\":{\"__ndarray__\":\"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\",\"dtype\":\"float64\",\"shape\":[259]},\"hog_tops\":{\"__ndarray__\":\"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\",\"dtype\":\"float64\",\"shape\":[259]}},\"selected\":{\"id\":\"1255\",\"type\":\"Selection\"},\"selection_policy\":{\"id\":\"1284\",\"type\":\"UnionRenderers\"}},\"id\":\"1254\",\"type\":\"ColumnDataSource\"},{\"attributes\":{\"mantissas\":[1,2,5],\"max_interval\":500.0,\"num_minor_ticks\":0},\"id\":\"1272\",\"type\":\"AdaptiveTicker\"},{\"attributes\":{\"axis_label\":\"DATE\",\"axis_label_text_font_size\":{\"value\":\"10pt\"},\"bounds\":\"auto\",\"formatter\":{\"id\":\"1263\",\"type\":\"DatetimeTickFormatter\"},\"major_label_orientation\":\"horizontal\",\"ticker\":{\"id\":\"1233\",\"type\":\"DatetimeTicker\"}},\"id\":\"1232\",\"type\":\"DatetimeAxis\"},{\"attributes\":{\"line_alpha\":0.1,\"line_color\":\"#1f77b3\",\"line_width\":2,\"x\":{\"field\":\"DATE\"},\"y\":{\"field\":\"hog_tops\"}},\"id\":\"1258\",\"type\":\"Line\"},{\"attributes\":{\"margin\":[5,5,5,5],\"name\":\"HSpacer02064\",\"sizing_mode\":\"stretch_width\"},\"id\":\"1219\",\"type\":\"Spacer\"},{\"attributes\":{},\"id\":\"1265\",\"type\":\"BasicTickFormatter\"},{\"attributes\":{},\"id\":\"1246\",\"type\":\"ResetTool\"},{\"attributes\":{},\"id\":\"1263\",\"type\":\"DatetimeTickFormatter\"},{\"attributes\":{\"callback\":null,\"formatters\":{\"@{DATE}\":\"datetime\"},\"renderers\":[{\"id\":\"1260\",\"type\":\"GlyphRenderer\"}],\"tags\":[\"hv_created\"],\"tooltips\":[[\"DATE\",\"@{DATE}{%F %T}\"],[\"hog_tops\",\"@{hog_tops}\"]]},\"id\":\"1222\",\"type\":\"HoverTool\"},{\"attributes\":{\"days\":[1,4,7,10,13,16,19,22,25,28]},\"id\":\"1276\",\"type\":\"DaysTicker\"},{\"attributes\":{\"line_alpha\":0.2,\"line_color\":\"#1f77b3\",\"line_width\":2,\"x\":{\"field\":\"DATE\"},\"y\":{\"field\":\"hog_tops\"}},\"id\":\"1259\",\"type\":\"Line\"},{\"attributes\":{\"days\":[1,8,15,22]},\"id\":\"1277\",\"type\":\"DaysTicker\"},{\"attributes\":{\"axis_label\":\"\",\"axis_label_text_font_size\":{\"value\":\"10pt\"},\"bounds\":\"auto\",\"formatter\":{\"id\":\"1265\",\"type\":\"BasicTickFormatter\"},\"major_label_orientation\":\"horizontal\",\"ticker\":{\"id\":\"1238\",\"type\":\"BasicTicker\"}},\"id\":\"1237\",\"type\":\"LinearAxis\"},{\"attributes\":{\"months\":[0,1,2,3,4,5,6,7,8,9,10,11]},\"id\":\"1279\",\"type\":\"MonthsTicker\"},{\"attributes\":{},\"id\":\"1242\",\"type\":\"SaveTool\"},{\"attributes\":{\"months\":[0,6]},\"id\":\"1282\",\"type\":\"MonthsTicker\"},{\"attributes\":{},\"id\":\"1284\",\"type\":\"UnionRenderers\"},{\"attributes\":{},\"id\":\"1244\",\"type\":\"WheelZoomTool\"},{\"attributes\":{\"days\":[1,15]},\"id\":\"1278\",\"type\":\"DaysTicker\"},{\"attributes\":{},\"id\":\"1283\",\"type\":\"YearsTicker\"},{\"attributes\":{\"line_color\":\"#1f77b3\",\"line_width\":2,\"x\":{\"field\":\"DATE\"},\"y\":{\"field\":\"hog_tops\"}},\"id\":\"1257\",\"type\":\"Line\"},{\"attributes\":{\"margin\":[5,5,5,5],\"name\":\"HSpacer02065\",\"sizing_mode\":\"stretch_width\"},\"id\":\"1286\",\"type\":\"Spacer\"},{\"attributes\":{\"overlay\":{\"id\":\"1271\",\"type\":\"BoxAnnotation\"}},\"id\":\"1245\",\"type\":\"BoxZoomTool\"},{\"attributes\":{\"source\":{\"id\":\"1254\",\"type\":\"ColumnDataSource\"}},\"id\":\"1261\",\"type\":\"CDSView\"},{\"attributes\":{\"align\":null,\"below\":[{\"id\":\"1232\",\"type\":\"DatetimeAxis\"}],\"center\":[{\"id\":\"1236\",\"type\":\"Grid\"},{\"id\":\"1241\",\"type\":\"Grid\"}],\"left\":[{\"id\":\"1237\",\"type\":\"LinearAxis\"}],\"margin\":null,\"min_border_bottom\":10,\"min_border_left\":10,\"min_border_right\":10,\"min_border_top\":10,\"plot_height\":400,\"plot_width\":500,\"renderers\":[{\"id\":\"1260\",\"type\":\"GlyphRenderer\"}],\"sizing_mode\":\"fixed\",\"title\":{\"id\":\"1224\",\"type\":\"Title\"},\"toolbar\":{\"id\":\"1247\",\"type\":\"Toolbar\"},\"x_range\":{\"id\":\"1220\",\"type\":\"Range1d\"},\"x_scale\":{\"id\":\"1228\",\"type\":\"LinearScale\"},\"y_range\":{\"id\":\"1221\",\"type\":\"Range1d\"},\"y_scale\":{\"id\":\"1230\",\"type\":\"LinearScale\"}},\"id\":\"1223\",\"subtype\":\"Figure\",\"type\":\"Plot\"}],\"root_ids\":[\"1218\"]},\"title\":\"Bokeh Application\",\"version\":\"1.4.0\"}};\n",
       "  var render_items = [{\"docid\":\"89850ec5-c1ef-4be1-abdd-9b8d5bc72664\",\"roots\":{\"1218\":\"6d62bb62-8905-4a53-9bc5-2bafeebaae8d\"}}];\n",
       "  root.Bokeh.embed.embed_items_notebook(docs_json, render_items);\n",
       "  }\n",
       "if (root.Bokeh !== undefined) {\n",
       "    embed_document(root);\n",
       "  } else {\n",
       "    var attempts = 0;\n",
       "    var timer = setInterval(function(root) {\n",
       "      if (root.Bokeh !== undefined) {\n",
       "        clearInterval(timer);\n",
       "        embed_document(root);\n",
       "      } else if (document.readyState == \"complete\") {\n",
       "        attempts++;\n",
       "        if (attempts > 100) {\n",
       "          clearInterval(timer);\n",
       "          console.log(\"Bokeh: ERROR: Unable to run BokehJS code because BokehJS library is missing\");\n",
       "        }\n",
       "      }\n",
       "    }, 10, root)\n",
       "  }\n",
       "})(window);</script>"
      ],
      "text/plain": [
       ":Curve   [DATE]   (hog_tops)"
      ]
     },
     "execution_count": 6,
     "metadata": {
      "application/vnd.holoviews_exec.v0+json": {
       "id": "1218"
      }
     },
     "output_type": "execute_result"
    }
   ],
   "source": [
    "hog_tops.hvplot(height=400, width=500)"
   ]
  },
  {
   "cell_type": "code",
   "execution_count": 7,
   "metadata": {},
   "outputs": [
    {
     "data": {},
     "metadata": {},
     "output_type": "display_data"
    },
    {
     "data": {
      "application/vnd.holoviews_exec.v0+json": "",
      "text/html": [
       "<div id='1388'>\n",
       "\n",
       "\n",
       "\n",
       "\n",
       "\n",
       "  <div class=\"bk-root\" id=\"14918afb-744b-47b2-ae81-c537e5576f3c\" data-root-id=\"1388\"></div>\n",
       "</div>\n",
       "<script type=\"application/javascript\">\n",
       "    function msg_handler(msg) {\n",
       "      var metadata = msg.metadata;\n",
       "      var buffers = msg.buffers;\n",
       "      var msg = msg.content.data;\n",
       "      if ((metadata.msg_type == \"Ready\")) {\n",
       "        if (metadata.content) {\n",
       "          console.log(\"Python callback returned following output:\", metadata.content);\n",
       "        }\n",
       "      } else if (metadata.msg_type == \"Error\") {\n",
       "        console.log(\"Python failed with the following traceback:\", metadata.traceback)\n",
       "      } else {\n",
       "        \n",
       "var plot_id = \"1388\";\n",
       "\n",
       "if ((plot_id in window.PyViz.plot_index) && (window.PyViz.plot_index[plot_id] != null)) {\n",
       "  var plot = window.PyViz.plot_index[plot_id];\n",
       "} else if ((Bokeh !== undefined) && (plot_id in Bokeh.index)) {\n",
       "  var plot = Bokeh.index[plot_id];\n",
       "}\n",
       "\n",
       "if (plot == null) {\n",
       "  return\n",
       "}\n",
       "\n",
       "if (plot_id in window.PyViz.receivers) {\n",
       "  var receiver = window.PyViz.receivers[plot_id];\n",
       "} else {\n",
       "  var receiver = new Bokeh.protocol.Receiver();\n",
       "  window.PyViz.receivers[plot_id] = receiver;\n",
       "}\n",
       "\n",
       "if ((buffers != undefined) && (buffers.length > 0)) {\n",
       "  receiver.consume(buffers[0].buffer)\n",
       "} else {\n",
       "  receiver.consume(msg)\n",
       "}\n",
       "\n",
       "const comm_msg = receiver.message;\n",
       "if ((comm_msg != null) && (Object.keys(comm_msg.content).length > 0)) {\n",
       "  plot.model.document.apply_json_patch(comm_msg.content, comm_msg.buffers)\n",
       "}\n",
       "\n",
       "      }\n",
       "    }\n",
       "    if ((window.PyViz == undefined) || (!window.PyViz.comm_manager)) {\n",
       "      console.log(\"Could not find comm manager\")\n",
       "    } else {\n",
       "      window.PyViz.comm_manager.register_target('1388', '017643bd38874b6aaf914e07ba12d455', msg_handler);\n",
       "    }\n",
       "    \n",
       "(function(root) {\n",
       "  function embed_document(root) {\n",
       "  var docs_json = {\"d10ae93f-1631-47b8-982c-f54943c25ce5\":{\"roots\":{\"references\":[{\"attributes\":{\"overlay\":{\"id\":\"1441\",\"type\":\"BoxAnnotation\"}},\"id\":\"1415\",\"type\":\"BoxZoomTool\"},{\"attributes\":{\"months\":[0,2,4,6,8,10]},\"id\":\"1450\",\"type\":\"MonthsTicker\"},{\"attributes\":{},\"id\":\"1425\",\"type\":\"Selection\"},{\"attributes\":{\"dimension\":1,\"grid_line_color\":null,\"ticker\":{\"id\":\"1408\",\"type\":\"BasicTicker\"}},\"id\":\"1411\",\"type\":\"Grid\"},{\"attributes\":{\"source\":{\"id\":\"1424\",\"type\":\"ColumnDataSource\"}},\"id\":\"1431\",\"type\":\"CDSView\"},{\"attributes\":{\"bottom_units\":\"screen\",\"fill_alpha\":{\"value\":0.5},\"fill_color\":{\"value\":\"lightgrey\"},\"left_units\":\"screen\",\"level\":\"overlay\",\"line_alpha\":{\"value\":1.0},\"line_color\":{\"value\":\"black\"},\"line_dash\":[4,4],\"line_width\":{\"value\":2},\"render_mode\":\"css\",\"right_units\":\"screen\",\"top_units\":\"screen\"},\"id\":\"1441\",\"type\":\"BoxAnnotation\"},{\"attributes\":{},\"id\":\"1412\",\"type\":\"SaveTool\"},{\"attributes\":{\"children\":[{\"id\":\"1389\",\"type\":\"Spacer\"},{\"id\":\"1393\",\"subtype\":\"Figure\",\"type\":\"Plot\"},{\"id\":\"1456\",\"type\":\"Spacer\"}],\"margin\":[0,0,0,0],\"name\":\"Row02223\",\"tags\":[\"embedded\"]},\"id\":\"1388\",\"type\":\"Row\"},{\"attributes\":{\"line_alpha\":0.2,\"line_color\":\"#1f77b3\",\"line_width\":2,\"x\":{\"field\":\"DATE\"},\"y\":{\"field\":\"swine_head_count\"}},\"id\":\"1429\",\"type\":\"Line\"},{\"attributes\":{},\"id\":\"1414\",\"type\":\"WheelZoomTool\"},{\"attributes\":{\"mantissas\":[1,2,5],\"max_interval\":500.0,\"num_minor_ticks\":0},\"id\":\"1442\",\"type\":\"AdaptiveTicker\"},{\"attributes\":{\"months\":[0,1,2,3,4,5,6,7,8,9,10,11]},\"id\":\"1449\",\"type\":\"MonthsTicker\"},{\"attributes\":{\"months\":[0,4,8]},\"id\":\"1451\",\"type\":\"MonthsTicker\"},{\"attributes\":{},\"id\":\"1400\",\"type\":\"LinearScale\"},{\"attributes\":{\"grid_line_color\":null,\"ticker\":{\"id\":\"1403\",\"type\":\"DatetimeTicker\"}},\"id\":\"1406\",\"type\":\"Grid\"},{\"attributes\":{},\"id\":\"1413\",\"type\":\"PanTool\"},{\"attributes\":{\"base\":60,\"mantissas\":[1,2,5,10,15,20,30],\"max_interval\":1800000.0,\"min_interval\":1000.0,\"num_minor_ticks\":0},\"id\":\"1443\",\"type\":\"AdaptiveTicker\"},{\"attributes\":{\"active_drag\":\"auto\",\"active_inspect\":\"auto\",\"active_multi\":null,\"active_scroll\":\"auto\",\"active_tap\":\"auto\",\"tools\":[{\"id\":\"1392\",\"type\":\"HoverTool\"},{\"id\":\"1412\",\"type\":\"SaveTool\"},{\"id\":\"1413\",\"type\":\"PanTool\"},{\"id\":\"1414\",\"type\":\"WheelZoomTool\"},{\"id\":\"1415\",\"type\":\"BoxZoomTool\"},{\"id\":\"1416\",\"type\":\"ResetTool\"}]},\"id\":\"1417\",\"type\":\"Toolbar\"},{\"attributes\":{\"callback\":null,\"formatters\":{\"@{DATE}\":\"datetime\"},\"renderers\":[{\"id\":\"1430\",\"type\":\"GlyphRenderer\"}],\"tags\":[\"hv_created\"],\"tooltips\":[[\"DATE\",\"@{DATE}{%F %T}\"],[\"swine_head_count\",\"@{swine_head_count}\"]]},\"id\":\"1392\",\"type\":\"HoverTool\"},{\"attributes\":{\"callback\":null,\"end\":1588896000000.0,\"reset_end\":1588896000000.0,\"reset_start\":1556668800000.0,\"start\":1556668800000.0,\"tags\":[[[\"DATE\",\"DATE\",null]]]},\"id\":\"1390\",\"type\":\"Range1d\"},{\"attributes\":{},\"id\":\"1435\",\"type\":\"BasicTickFormatter\"},{\"attributes\":{},\"id\":\"1416\",\"type\":\"ResetTool\"},{\"attributes\":{\"line_color\":\"#1f77b3\",\"line_width\":2,\"x\":{\"field\":\"DATE\"},\"y\":{\"field\":\"swine_head_count\"}},\"id\":\"1427\",\"type\":\"Line\"},{\"attributes\":{\"days\":[1,4,7,10,13,16,19,22,25,28]},\"id\":\"1446\",\"type\":\"DaysTicker\"},{\"attributes\":{\"days\":[1,2,3,4,5,6,7,8,9,10,11,12,13,14,15,16,17,18,19,20,21,22,23,24,25,26,27,28,29,30,31]},\"id\":\"1445\",\"type\":\"DaysTicker\"},{\"attributes\":{\"months\":[0,6]},\"id\":\"1452\",\"type\":\"MonthsTicker\"},{\"attributes\":{},\"id\":\"1454\",\"type\":\"UnionRenderers\"},{\"attributes\":{},\"id\":\"1398\",\"type\":\"LinearScale\"},{\"attributes\":{\"days\":[1,15]},\"id\":\"1448\",\"type\":\"DaysTicker\"},{\"attributes\":{\"data_source\":{\"id\":\"1424\",\"type\":\"ColumnDataSource\"},\"glyph\":{\"id\":\"1427\",\"type\":\"Line\"},\"hover_glyph\":null,\"muted_glyph\":{\"id\":\"1429\",\"type\":\"Line\"},\"nonselection_glyph\":{\"id\":\"1428\",\"type\":\"Line\"},\"selection_glyph\":null,\"view\":{\"id\":\"1431\",\"type\":\"CDSView\"}},\"id\":\"1430\",\"type\":\"GlyphRenderer\"},{\"attributes\":{\"margin\":[5,5,5,5],\"name\":\"HSpacer02227\",\"sizing_mode\":\"stretch_width\"},\"id\":\"1389\",\"type\":\"Spacer\"},{\"attributes\":{},\"id\":\"1433\",\"type\":\"DatetimeTickFormatter\"},{\"attributes\":{\"base\":24,\"mantissas\":[1,2,4,6,8,12],\"max_interval\":43200000.0,\"min_interval\":3600000.0,\"num_minor_ticks\":0},\"id\":\"1444\",\"type\":\"AdaptiveTicker\"},{\"attributes\":{\"margin\":[5,5,5,5],\"name\":\"HSpacer02228\",\"sizing_mode\":\"stretch_width\"},\"id\":\"1456\",\"type\":\"Spacer\"},{\"attributes\":{\"align\":null,\"below\":[{\"id\":\"1402\",\"type\":\"DatetimeAxis\"}],\"center\":[{\"id\":\"1406\",\"type\":\"Grid\"},{\"id\":\"1411\",\"type\":\"Grid\"}],\"left\":[{\"id\":\"1407\",\"type\":\"LinearAxis\"}],\"margin\":null,\"min_border_bottom\":10,\"min_border_left\":10,\"min_border_right\":10,\"min_border_top\":10,\"plot_height\":400,\"plot_width\":500,\"renderers\":[{\"id\":\"1430\",\"type\":\"GlyphRenderer\"}],\"sizing_mode\":\"fixed\",\"title\":{\"id\":\"1394\",\"type\":\"Title\"},\"toolbar\":{\"id\":\"1417\",\"type\":\"Toolbar\"},\"x_range\":{\"id\":\"1390\",\"type\":\"Range1d\"},\"x_scale\":{\"id\":\"1398\",\"type\":\"LinearScale\"},\"y_range\":{\"id\":\"1391\",\"type\":\"Range1d\"},\"y_scale\":{\"id\":\"1400\",\"type\":\"LinearScale\"}},\"id\":\"1393\",\"subtype\":\"Figure\",\"type\":\"Plot\"},{\"attributes\":{\"text\":\"swine_head_count\",\"text_color\":{\"value\":\"black\"},\"text_font_size\":{\"value\":\"12pt\"}},\"id\":\"1394\",\"type\":\"Title\"},{\"attributes\":{},\"id\":\"1408\",\"type\":\"BasicTicker\"},{\"attributes\":{\"num_minor_ticks\":5,\"tickers\":[{\"id\":\"1442\",\"type\":\"AdaptiveTicker\"},{\"id\":\"1443\",\"type\":\"AdaptiveTicker\"},{\"id\":\"1444\",\"type\":\"AdaptiveTicker\"},{\"id\":\"1445\",\"type\":\"DaysTicker\"},{\"id\":\"1446\",\"type\":\"DaysTicker\"},{\"id\":\"1447\",\"type\":\"DaysTicker\"},{\"id\":\"1448\",\"type\":\"DaysTicker\"},{\"id\":\"1449\",\"type\":\"MonthsTicker\"},{\"id\":\"1450\",\"type\":\"MonthsTicker\"},{\"id\":\"1451\",\"type\":\"MonthsTicker\"},{\"id\":\"1452\",\"type\":\"MonthsTicker\"},{\"id\":\"1453\",\"type\":\"YearsTicker\"}]},\"id\":\"1403\",\"type\":\"DatetimeTicker\"},{\"attributes\":{},\"id\":\"1453\",\"type\":\"YearsTicker\"},{\"attributes\":{\"axis_label\":\"DATE\",\"axis_label_text_font_size\":{\"value\":\"10pt\"},\"bounds\":\"auto\",\"formatter\":{\"id\":\"1433\",\"type\":\"DatetimeTickFormatter\"},\"major_label_orientation\":\"horizontal\",\"ticker\":{\"id\":\"1403\",\"type\":\"DatetimeTicker\"}},\"id\":\"1402\",\"type\":\"DatetimeAxis\"},{\"attributes\":{\"callback\":null,\"end\":237959.7,\"reset_end\":237959.7,\"reset_start\":32967.3,\"start\":32967.3,\"tags\":[[[\"swine_head_count\",\"swine_head_count\",null]]]},\"id\":\"1391\",\"type\":\"Range1d\"},{\"attributes\":{\"callback\":null,\"data\":{\"DATE\":{\"__ndarray__\":\"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\",\"dtype\":\"float64\",\"shape\":[259]},\"swine_head_count\":[115153,119015,116727,131107,108753,115540,117365,118284,114858,103469,107217,116069,104655,117424,97979,109589,108880,113499,113501,108230,106822,112247,180553,106282,116010,115755,116633,146328,110284,111759,113618,119684,133846,100054,106286,112141,114088,137494,99815,107526,105948,120762,118578,97209,110975,112912,159602,102489,108979,111077,114904,122118,95575,103011,98015,107365,109929,100878,103555,104219,106057,92831,94052,106557,104375,109240,102768,86902,105672,107712,108492,134579,100826,102733,109616,109839,166843,106472,104363,108333,114186,144149,108881,105907,111246,105052,127835,107417,109602,110036,189938,109371,113541,109968,107736,156634,102561,104991,113009,108103,174109,102399,103085,102839,112841,173695,101606,109998,107971,105816,173042,113078,112952,112036,115190,183029,110354,112985,107110,108900,177084,104817,111761,106463,115217,156840,108506,113137,110004,109363,166731,105355,114017,112691,112035,170393,98656,118401,112842,115423,214303,112301,113028,114878,112272,209673,107933,115973,113318,220877,108980,110842,115885,112549,184143,113159,115908,112789,106199,217144,116310,108849,105889,114336,195966,150165,103988,103988,216723,102724,93072,108242,210484,117069,112734,114898,109388,191161,109356,110310,117571,110652,90081,113004,114119,110694,193494,104471,112621,110109,122550,177110,104916,123435,120464,119114,184142,123355,122981,126722,132355,108411,116240,114773,119490,163556,119884,117552,122301,119951,157005,115547,123354,114966,121755,197087,120899,121508,117676,122494,181908,114521,118636,113160,126358,191264,119187,119067,127590,124239,205267,127489,130380,111415,126422,170278,111063,121704,117539,124357,69763,107476,104573,113204,144722,81712,70052,73795,69189,115348,63679,65139,50050,54350,81406,50829,54369,62953,68874]},\"selected\":{\"id\":\"1425\",\"type\":\"Selection\"},\"selection_policy\":{\"id\":\"1454\",\"type\":\"UnionRenderers\"}},\"id\":\"1424\",\"type\":\"ColumnDataSource\"},{\"attributes\":{\"line_alpha\":0.1,\"line_color\":\"#1f77b3\",\"line_width\":2,\"x\":{\"field\":\"DATE\"},\"y\":{\"field\":\"swine_head_count\"}},\"id\":\"1428\",\"type\":\"Line\"},{\"attributes\":{\"days\":[1,8,15,22]},\"id\":\"1447\",\"type\":\"DaysTicker\"},{\"attributes\":{\"axis_label\":\"\",\"axis_label_text_font_size\":{\"value\":\"10pt\"},\"bounds\":\"auto\",\"formatter\":{\"id\":\"1435\",\"type\":\"BasicTickFormatter\"},\"major_label_orientation\":\"horizontal\",\"ticker\":{\"id\":\"1408\",\"type\":\"BasicTicker\"}},\"id\":\"1407\",\"type\":\"LinearAxis\"}],\"root_ids\":[\"1388\"]},\"title\":\"Bokeh Application\",\"version\":\"1.4.0\"}};\n",
       "  var render_items = [{\"docid\":\"d10ae93f-1631-47b8-982c-f54943c25ce5\",\"roots\":{\"1388\":\"14918afb-744b-47b2-ae81-c537e5576f3c\"}}];\n",
       "  root.Bokeh.embed.embed_items_notebook(docs_json, render_items);\n",
       "  }\n",
       "if (root.Bokeh !== undefined) {\n",
       "    embed_document(root);\n",
       "  } else {\n",
       "    var attempts = 0;\n",
       "    var timer = setInterval(function(root) {\n",
       "      if (root.Bokeh !== undefined) {\n",
       "        clearInterval(timer);\n",
       "        embed_document(root);\n",
       "      } else if (document.readyState == \"complete\") {\n",
       "        attempts++;\n",
       "        if (attempts > 100) {\n",
       "          clearInterval(timer);\n",
       "          console.log(\"Bokeh: ERROR: Unable to run BokehJS code because BokehJS library is missing\");\n",
       "        }\n",
       "      }\n",
       "    }, 10, root)\n",
       "  }\n",
       "})(window);</script>"
      ],
      "text/plain": [
       ":Curve   [DATE]   (swine_head_count)"
      ]
     },
     "execution_count": 7,
     "metadata": {
      "application/vnd.holoviews_exec.v0+json": {
       "id": "1388"
      }
     },
     "output_type": "execute_result"
    }
   ],
   "source": [
    "swine_head_count.hvplot(height=400, width=500)"
   ]
  },
  {
   "cell_type": "code",
   "execution_count": 8,
   "metadata": {},
   "outputs": [
    {
     "data": {},
     "metadata": {},
     "output_type": "display_data"
    },
    {
     "data": {
      "application/vnd.holoviews_exec.v0+json": "",
      "text/html": [
       "<div id='1558'>\n",
       "\n",
       "\n",
       "\n",
       "\n",
       "\n",
       "  <div class=\"bk-root\" id=\"b1652a85-8d13-4ce4-b161-1d2e32c90b1f\" data-root-id=\"1558\"></div>\n",
       "</div>\n",
       "<script type=\"application/javascript\">\n",
       "    function msg_handler(msg) {\n",
       "      var metadata = msg.metadata;\n",
       "      var buffers = msg.buffers;\n",
       "      var msg = msg.content.data;\n",
       "      if ((metadata.msg_type == \"Ready\")) {\n",
       "        if (metadata.content) {\n",
       "          console.log(\"Python callback returned following output:\", metadata.content);\n",
       "        }\n",
       "      } else if (metadata.msg_type == \"Error\") {\n",
       "        console.log(\"Python failed with the following traceback:\", metadata.traceback)\n",
       "      } else {\n",
       "        \n",
       "var plot_id = \"1558\";\n",
       "\n",
       "if ((plot_id in window.PyViz.plot_index) && (window.PyViz.plot_index[plot_id] != null)) {\n",
       "  var plot = window.PyViz.plot_index[plot_id];\n",
       "} else if ((Bokeh !== undefined) && (plot_id in Bokeh.index)) {\n",
       "  var plot = Bokeh.index[plot_id];\n",
       "}\n",
       "\n",
       "if (plot == null) {\n",
       "  return\n",
       "}\n",
       "\n",
       "if (plot_id in window.PyViz.receivers) {\n",
       "  var receiver = window.PyViz.receivers[plot_id];\n",
       "} else {\n",
       "  var receiver = new Bokeh.protocol.Receiver();\n",
       "  window.PyViz.receivers[plot_id] = receiver;\n",
       "}\n",
       "\n",
       "if ((buffers != undefined) && (buffers.length > 0)) {\n",
       "  receiver.consume(buffers[0].buffer)\n",
       "} else {\n",
       "  receiver.consume(msg)\n",
       "}\n",
       "\n",
       "const comm_msg = receiver.message;\n",
       "if ((comm_msg != null) && (Object.keys(comm_msg.content).length > 0)) {\n",
       "  plot.model.document.apply_json_patch(comm_msg.content, comm_msg.buffers)\n",
       "}\n",
       "\n",
       "      }\n",
       "    }\n",
       "    if ((window.PyViz == undefined) || (!window.PyViz.comm_manager)) {\n",
       "      console.log(\"Could not find comm manager\")\n",
       "    } else {\n",
       "      window.PyViz.comm_manager.register_target('1558', '3744266db1854a4bb61d849b3e278dd3', msg_handler);\n",
       "    }\n",
       "    \n",
       "(function(root) {\n",
       "  function embed_document(root) {\n",
       "  var docs_json = {\"3b496d51-91dd-4e88-a554-b7b391b3f7af\":{\"roots\":{\"references\":[{\"attributes\":{\"base\":24,\"mantissas\":[1,2,4,6,8,12],\"max_interval\":43200000.0,\"min_interval\":3600000.0,\"num_minor_ticks\":0},\"id\":\"1614\",\"type\":\"AdaptiveTicker\"},{\"attributes\":{\"callback\":null,\"data\":{\"DATE\":{\"__ndarray__\":\"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\",\"dtype\":\"float64\",\"shape\":[259]},\"hog_weights\":{\"__ndarray__\":\"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\",\"dtype\":\"float64\",\"shape\":[259]}},\"selected\":{\"id\":\"1595\",\"type\":\"Selection\"},\"selection_policy\":{\"id\":\"1624\",\"type\":\"UnionRenderers\"}},\"id\":\"1594\",\"type\":\"ColumnDataSource\"},{\"attributes\":{\"bottom_units\":\"screen\",\"fill_alpha\":{\"value\":0.5},\"fill_color\":{\"value\":\"lightgrey\"},\"left_units\":\"screen\",\"level\":\"overlay\",\"line_alpha\":{\"value\":1.0},\"line_color\":{\"value\":\"black\"},\"line_dash\":[4,4],\"line_width\":{\"value\":2},\"render_mode\":\"css\",\"right_units\":\"screen\",\"top_units\":\"screen\"},\"id\":\"1611\",\"type\":\"BoxAnnotation\"},{\"attributes\":{\"days\":[1,2,3,4,5,6,7,8,9,10,11,12,13,14,15,16,17,18,19,20,21,22,23,24,25,26,27,28,29,30,31]},\"id\":\"1615\",\"type\":\"DaysTicker\"},{\"attributes\":{\"source\":{\"id\":\"1594\",\"type\":\"ColumnDataSource\"}},\"id\":\"1601\",\"type\":\"CDSView\"},{\"attributes\":{\"align\":null,\"below\":[{\"id\":\"1572\",\"type\":\"DatetimeAxis\"}],\"center\":[{\"id\":\"1576\",\"type\":\"Grid\"},{\"id\":\"1581\",\"type\":\"Grid\"}],\"left\":[{\"id\":\"1577\",\"type\":\"LinearAxis\"}],\"margin\":null,\"min_border_bottom\":10,\"min_border_left\":10,\"min_border_right\":10,\"min_border_top\":10,\"plot_height\":400,\"plot_width\":500,\"renderers\":[{\"id\":\"1600\",\"type\":\"GlyphRenderer\"}],\"sizing_mode\":\"fixed\",\"title\":{\"id\":\"1564\",\"type\":\"Title\"},\"toolbar\":{\"id\":\"1587\",\"type\":\"Toolbar\"},\"x_range\":{\"id\":\"1560\",\"type\":\"Range1d\"},\"x_scale\":{\"id\":\"1568\",\"type\":\"LinearScale\"},\"y_range\":{\"id\":\"1561\",\"type\":\"Range1d\"},\"y_scale\":{\"id\":\"1570\",\"type\":\"LinearScale\"}},\"id\":\"1563\",\"subtype\":\"Figure\",\"type\":\"Plot\"},{\"attributes\":{},\"id\":\"1582\",\"type\":\"SaveTool\"},{\"attributes\":{\"margin\":[5,5,5,5],\"name\":\"HSpacer02391\",\"sizing_mode\":\"stretch_width\"},\"id\":\"1626\",\"type\":\"Spacer\"},{\"attributes\":{},\"id\":\"1584\",\"type\":\"WheelZoomTool\"},{\"attributes\":{},\"id\":\"1603\",\"type\":\"DatetimeTickFormatter\"},{\"attributes\":{\"months\":[0,6]},\"id\":\"1622\",\"type\":\"MonthsTicker\"},{\"attributes\":{\"text\":\"hog_weights\",\"text_color\":{\"value\":\"black\"},\"text_font_size\":{\"value\":\"12pt\"}},\"id\":\"1564\",\"type\":\"Title\"},{\"attributes\":{},\"id\":\"1583\",\"type\":\"PanTool\"},{\"attributes\":{\"overlay\":{\"id\":\"1611\",\"type\":\"BoxAnnotation\"}},\"id\":\"1585\",\"type\":\"BoxZoomTool\"},{\"attributes\":{\"days\":[1,4,7,10,13,16,19,22,25,28]},\"id\":\"1616\",\"type\":\"DaysTicker\"},{\"attributes\":{},\"id\":\"1570\",\"type\":\"LinearScale\"},{\"attributes\":{\"line_color\":\"#1f77b3\",\"line_width\":2,\"x\":{\"field\":\"DATE\"},\"y\":{\"field\":\"hog_weights\"}},\"id\":\"1597\",\"type\":\"Line\"},{\"attributes\":{\"days\":[1,8,15,22]},\"id\":\"1617\",\"type\":\"DaysTicker\"},{\"attributes\":{\"months\":[0,1,2,3,4,5,6,7,8,9,10,11]},\"id\":\"1619\",\"type\":\"MonthsTicker\"},{\"attributes\":{\"line_alpha\":0.1,\"line_color\":\"#1f77b3\",\"line_width\":2,\"x\":{\"field\":\"DATE\"},\"y\":{\"field\":\"hog_weights\"}},\"id\":\"1598\",\"type\":\"Line\"},{\"attributes\":{\"days\":[1,15]},\"id\":\"1618\",\"type\":\"DaysTicker\"},{\"attributes\":{\"months\":[0,4,8]},\"id\":\"1621\",\"type\":\"MonthsTicker\"},{\"attributes\":{\"data_source\":{\"id\":\"1594\",\"type\":\"ColumnDataSource\"},\"glyph\":{\"id\":\"1597\",\"type\":\"Line\"},\"hover_glyph\":null,\"muted_glyph\":{\"id\":\"1599\",\"type\":\"Line\"},\"nonselection_glyph\":{\"id\":\"1598\",\"type\":\"Line\"},\"selection_glyph\":null,\"view\":{\"id\":\"1601\",\"type\":\"CDSView\"}},\"id\":\"1600\",\"type\":\"GlyphRenderer\"},{\"attributes\":{\"callback\":null,\"end\":1588896000000.0,\"reset_end\":1588896000000.0,\"reset_start\":1556668800000.0,\"start\":1556668800000.0,\"tags\":[[[\"DATE\",\"DATE\",null]]]},\"id\":\"1560\",\"type\":\"Range1d\"},{\"attributes\":{},\"id\":\"1568\",\"type\":\"LinearScale\"},{\"attributes\":{\"grid_line_color\":null,\"ticker\":{\"id\":\"1573\",\"type\":\"DatetimeTicker\"}},\"id\":\"1576\",\"type\":\"Grid\"},{\"attributes\":{\"axis_label\":\"DATE\",\"axis_label_text_font_size\":{\"value\":\"10pt\"},\"bounds\":\"auto\",\"formatter\":{\"id\":\"1603\",\"type\":\"DatetimeTickFormatter\"},\"major_label_orientation\":\"horizontal\",\"ticker\":{\"id\":\"1573\",\"type\":\"DatetimeTicker\"}},\"id\":\"1572\",\"type\":\"DatetimeAxis\"},{\"attributes\":{\"callback\":null,\"end\":222.995,\"reset_end\":222.995,\"reset_start\":205.655,\"start\":205.655,\"tags\":[[[\"hog_weights\",\"hog_weights\",null]]]},\"id\":\"1561\",\"type\":\"Range1d\"},{\"attributes\":{\"children\":[{\"id\":\"1559\",\"type\":\"Spacer\"},{\"id\":\"1563\",\"subtype\":\"Figure\",\"type\":\"Plot\"},{\"id\":\"1626\",\"type\":\"Spacer\"}],\"margin\":[0,0,0,0],\"name\":\"Row02386\",\"tags\":[\"embedded\"]},\"id\":\"1558\",\"type\":\"Row\"},{\"attributes\":{\"line_alpha\":0.2,\"line_color\":\"#1f77b3\",\"line_width\":2,\"x\":{\"field\":\"DATE\"},\"y\":{\"field\":\"hog_weights\"}},\"id\":\"1599\",\"type\":\"Line\"},{\"attributes\":{},\"id\":\"1624\",\"type\":\"UnionRenderers\"},{\"attributes\":{},\"id\":\"1595\",\"type\":\"Selection\"},{\"attributes\":{\"num_minor_ticks\":5,\"tickers\":[{\"id\":\"1612\",\"type\":\"AdaptiveTicker\"},{\"id\":\"1613\",\"type\":\"AdaptiveTicker\"},{\"id\":\"1614\",\"type\":\"AdaptiveTicker\"},{\"id\":\"1615\",\"type\":\"DaysTicker\"},{\"id\":\"1616\",\"type\":\"DaysTicker\"},{\"id\":\"1617\",\"type\":\"DaysTicker\"},{\"id\":\"1618\",\"type\":\"DaysTicker\"},{\"id\":\"1619\",\"type\":\"MonthsTicker\"},{\"id\":\"1620\",\"type\":\"MonthsTicker\"},{\"id\":\"1621\",\"type\":\"MonthsTicker\"},{\"id\":\"1622\",\"type\":\"MonthsTicker\"},{\"id\":\"1623\",\"type\":\"YearsTicker\"}]},\"id\":\"1573\",\"type\":\"DatetimeTicker\"},{\"attributes\":{},\"id\":\"1586\",\"type\":\"ResetTool\"},{\"attributes\":{\"mantissas\":[1,2,5],\"max_interval\":500.0,\"num_minor_ticks\":0},\"id\":\"1612\",\"type\":\"AdaptiveTicker\"},{\"attributes\":{\"months\":[0,2,4,6,8,10]},\"id\":\"1620\",\"type\":\"MonthsTicker\"},{\"attributes\":{\"axis_label\":\"\",\"axis_label_text_font_size\":{\"value\":\"10pt\"},\"bounds\":\"auto\",\"formatter\":{\"id\":\"1605\",\"type\":\"BasicTickFormatter\"},\"major_label_orientation\":\"horizontal\",\"ticker\":{\"id\":\"1578\",\"type\":\"BasicTicker\"}},\"id\":\"1577\",\"type\":\"LinearAxis\"},{\"attributes\":{},\"id\":\"1578\",\"type\":\"BasicTicker\"},{\"attributes\":{\"callback\":null,\"formatters\":{\"@{DATE}\":\"datetime\"},\"renderers\":[{\"id\":\"1600\",\"type\":\"GlyphRenderer\"}],\"tags\":[\"hv_created\"],\"tooltips\":[[\"DATE\",\"@{DATE}{%F %T}\"],[\"hog_weights\",\"@{hog_weights}\"]]},\"id\":\"1562\",\"type\":\"HoverTool\"},{\"attributes\":{},\"id\":\"1605\",\"type\":\"BasicTickFormatter\"},{\"attributes\":{},\"id\":\"1623\",\"type\":\"YearsTicker\"},{\"attributes\":{\"dimension\":1,\"grid_line_color\":null,\"ticker\":{\"id\":\"1578\",\"type\":\"BasicTicker\"}},\"id\":\"1581\",\"type\":\"Grid\"},{\"attributes\":{\"base\":60,\"mantissas\":[1,2,5,10,15,20,30],\"max_interval\":1800000.0,\"min_interval\":1000.0,\"num_minor_ticks\":0},\"id\":\"1613\",\"type\":\"AdaptiveTicker\"},{\"attributes\":{\"active_drag\":\"auto\",\"active_inspect\":\"auto\",\"active_multi\":null,\"active_scroll\":\"auto\",\"active_tap\":\"auto\",\"tools\":[{\"id\":\"1562\",\"type\":\"HoverTool\"},{\"id\":\"1582\",\"type\":\"SaveTool\"},{\"id\":\"1583\",\"type\":\"PanTool\"},{\"id\":\"1584\",\"type\":\"WheelZoomTool\"},{\"id\":\"1585\",\"type\":\"BoxZoomTool\"},{\"id\":\"1586\",\"type\":\"ResetTool\"}]},\"id\":\"1587\",\"type\":\"Toolbar\"},{\"attributes\":{\"margin\":[5,5,5,5],\"name\":\"HSpacer02390\",\"sizing_mode\":\"stretch_width\"},\"id\":\"1559\",\"type\":\"Spacer\"}],\"root_ids\":[\"1558\"]},\"title\":\"Bokeh Application\",\"version\":\"1.4.0\"}};\n",
       "  var render_items = [{\"docid\":\"3b496d51-91dd-4e88-a554-b7b391b3f7af\",\"roots\":{\"1558\":\"b1652a85-8d13-4ce4-b161-1d2e32c90b1f\"}}];\n",
       "  root.Bokeh.embed.embed_items_notebook(docs_json, render_items);\n",
       "  }\n",
       "if (root.Bokeh !== undefined) {\n",
       "    embed_document(root);\n",
       "  } else {\n",
       "    var attempts = 0;\n",
       "    var timer = setInterval(function(root) {\n",
       "      if (root.Bokeh !== undefined) {\n",
       "        clearInterval(timer);\n",
       "        embed_document(root);\n",
       "      } else if (document.readyState == \"complete\") {\n",
       "        attempts++;\n",
       "        if (attempts > 100) {\n",
       "          clearInterval(timer);\n",
       "          console.log(\"Bokeh: ERROR: Unable to run BokehJS code because BokehJS library is missing\");\n",
       "        }\n",
       "      }\n",
       "    }, 10, root)\n",
       "  }\n",
       "})(window);</script>"
      ],
      "text/plain": [
       ":Curve   [DATE]   (hog_weights)"
      ]
     },
     "execution_count": 8,
     "metadata": {
      "application/vnd.holoviews_exec.v0+json": {
       "id": "1558"
      }
     },
     "output_type": "execute_result"
    }
   ],
   "source": [
    "hog_weights.hvplot(height=400, width=500)"
   ]
  },
  {
   "cell_type": "code",
   "execution_count": null,
   "metadata": {},
   "outputs": [],
   "source": []
  }
 ],
 "metadata": {
  "kernelspec": {
   "display_name": "Python 3",
   "language": "python",
   "name": "python3"
  },
  "language_info": {
   "codemirror_mode": {
    "name": "ipython",
    "version": 3
   },
   "file_extension": ".py",
   "mimetype": "text/x-python",
   "name": "python",
   "nbconvert_exporter": "python",
   "pygments_lexer": "ipython3",
   "version": "3.7.6"
  }
 },
 "nbformat": 4,
 "nbformat_minor": 4
}
