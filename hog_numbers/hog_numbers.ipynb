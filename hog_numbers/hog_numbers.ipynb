{
 "cells": [
  {
   "cell_type": "markdown",
   "metadata": {},
   "source": [
    "Lean Hog Market During Corona Virus"
   ]
  },
  {
   "cell_type": "code",
   "execution_count": 18,
   "metadata": {},
   "outputs": [],
   "source": [
    "import os\n",
    "import datetime\n",
    "import requests\n",
    "import json\n",
    "import csv\n",
    "from pathlib import Path\n",
    "import pandas as pd\n",
    "import hvplot.pandas\n",
    "import plotly.express as px\n",
    "import panel as pn\n",
    "import matplotlib.pyplot as plt\n",
    "%matplotlib inline\n",
    "pn.extension('plotly')"
   ]
  },
  {
   "cell_type": "code",
   "execution_count": 19,
   "metadata": {},
   "outputs": [],
   "source": [
    "# csvpath = os.path.join(\"hog_info.csv\")"
   ]
  },
  {
   "cell_type": "code",
   "execution_count": 20,
   "metadata": {},
   "outputs": [],
   "source": [
    "# with open(csvpath, \"r\") as csvfile:\n",
    "#     csvreader = csv.reader(csvfile, delimiter=\",\")\n",
    "#     csv_header = next(csvreader)\n",
    "#     print(csv_header)"
   ]
  },
  {
   "cell_type": "code",
   "execution_count": 21,
   "metadata": {},
   "outputs": [],
   "source": [
    "if os.path.exists(\"../hog_numbers/hog_info.csv\") == True:\n",
    "    leanhog_csv_path = Path(\"../hog_numbers/hog_info.csv\")\n",
    "else:\n",
    "    leanhog_csv_path = Path(\"./hog_numbers/hog_info.csv\")"
   ]
  },
  {
   "cell_type": "code",
   "execution_count": 22,
   "metadata": {},
   "outputs": [],
   "source": [
    "leanhog_df = pd.DataFrame()\n",
    "leanhog_df = pd.read_csv(leanhog_csv_path, index_col=\"DATE\", parse_dates=True, infer_datetime_format=True)"
   ]
  },
  {
   "cell_type": "code",
   "execution_count": 23,
   "metadata": {},
   "outputs": [
    {
     "data": {
      "text/html": [
       "<div>\n",
       "<style scoped>\n",
       "    .dataframe tbody tr th:only-of-type {\n",
       "        vertical-align: middle;\n",
       "    }\n",
       "\n",
       "    .dataframe tbody tr th {\n",
       "        vertical-align: top;\n",
       "    }\n",
       "\n",
       "    .dataframe thead th {\n",
       "        text-align: right;\n",
       "    }\n",
       "</style>\n",
       "<table border=\"1\" class=\"dataframe\">\n",
       "  <thead>\n",
       "    <tr style=\"text-align: right;\">\n",
       "      <th></th>\n",
       "      <th>swine_head_count</th>\n",
       "      <th>hog_weights</th>\n",
       "      <th>hog_tops</th>\n",
       "      <th>product_price</th>\n",
       "    </tr>\n",
       "    <tr>\n",
       "      <th>DATE</th>\n",
       "      <th></th>\n",
       "      <th></th>\n",
       "      <th></th>\n",
       "      <th></th>\n",
       "    </tr>\n",
       "  </thead>\n",
       "  <tbody>\n",
       "    <tr>\n",
       "      <th>2019-05-01</th>\n",
       "      <td>115153</td>\n",
       "      <td>213.82</td>\n",
       "      <td>83.00</td>\n",
       "      <td>81.99</td>\n",
       "    </tr>\n",
       "    <tr>\n",
       "      <th>2019-05-02</th>\n",
       "      <td>119015</td>\n",
       "      <td>215.12</td>\n",
       "      <td>83.00</td>\n",
       "      <td>83.92</td>\n",
       "    </tr>\n",
       "    <tr>\n",
       "      <th>2019-05-03</th>\n",
       "      <td>116727</td>\n",
       "      <td>214.94</td>\n",
       "      <td>83.75</td>\n",
       "      <td>82.01</td>\n",
       "    </tr>\n",
       "    <tr>\n",
       "      <th>2019-05-06</th>\n",
       "      <td>131107</td>\n",
       "      <td>215.17</td>\n",
       "      <td>81.50</td>\n",
       "      <td>82.89</td>\n",
       "    </tr>\n",
       "    <tr>\n",
       "      <th>2019-05-07</th>\n",
       "      <td>108753</td>\n",
       "      <td>214.36</td>\n",
       "      <td>81.50</td>\n",
       "      <td>85.67</td>\n",
       "    </tr>\n",
       "  </tbody>\n",
       "</table>\n",
       "</div>"
      ],
      "text/plain": [
       "            swine_head_count  hog_weights  hog_tops  product_price\n",
       "DATE                                                              \n",
       "2019-05-01            115153       213.82     83.00          81.99\n",
       "2019-05-02            119015       215.12     83.00          83.92\n",
       "2019-05-03            116727       214.94     83.75          82.01\n",
       "2019-05-06            131107       215.17     81.50          82.89\n",
       "2019-05-07            108753       214.36     81.50          85.67"
      ]
     },
     "execution_count": 23,
     "metadata": {},
     "output_type": "execute_result"
    }
   ],
   "source": [
    "leanhog_df.head()"
   ]
  },
  {
   "cell_type": "code",
   "execution_count": 24,
   "metadata": {},
   "outputs": [],
   "source": [
    "product_price =  leanhog_df['product_price']\n",
    "swine_head_count = leanhog_df['swine_head_count']\n",
    "hog_weights = leanhog_df['hog_weights']\n",
    "hog_tops = leanhog_df['hog_tops']"
   ]
  },
  {
   "cell_type": "code",
   "execution_count": 25,
   "metadata": {},
   "outputs": [
    {
     "data": {
      "text/plain": [
       "DATE\n",
       "2019-05-01    115153\n",
       "2019-05-02    119015\n",
       "2019-05-03    116727\n",
       "2019-05-06    131107\n",
       "2019-05-07    108753\n",
       "2019-05-08    115540\n",
       "2019-05-09    117365\n",
       "2019-05-10    118284\n",
       "2019-05-13    114858\n",
       "2019-05-14    103469\n",
       "2019-05-15    107217\n",
       "2019-05-16    116069\n",
       "2019-05-17    104655\n",
       "2019-05-20    117424\n",
       "2019-05-21     97979\n",
       "2019-05-22    109589\n",
       "2019-05-23    108880\n",
       "2019-05-24    113499\n",
       "2019-05-28    113501\n",
       "2019-05-29    108230\n",
       "2019-05-30    106822\n",
       "2019-05-31    112247\n",
       "2019-06-03    180553\n",
       "2019-06-04    106282\n",
       "2019-06-05    116010\n",
       "2019-06-06    115755\n",
       "2019-06-07    116633\n",
       "2019-06-10    146328\n",
       "2019-06-11    110284\n",
       "2019-06-12    111759\n",
       "               ...  \n",
       "2020-03-27    124239\n",
       "2020-03-30    205267\n",
       "2020-03-31    127489\n",
       "2020-04-01    130380\n",
       "2020-04-02    111415\n",
       "2020-04-03    126422\n",
       "2020-04-06    170278\n",
       "2020-04-07    111063\n",
       "2020-04-08    121704\n",
       "2020-04-09    117539\n",
       "2020-04-13    124357\n",
       "2020-04-14     69763\n",
       "2020-04-15    107476\n",
       "2020-04-16    104573\n",
       "2020-04-17    113204\n",
       "2020-04-20    144722\n",
       "2020-04-21     81712\n",
       "2020-04-22     70052\n",
       "2020-04-23     73795\n",
       "2020-04-24     69189\n",
       "2020-04-27    115348\n",
       "2020-04-28     63679\n",
       "2020-04-29     65139\n",
       "2020-04-30     50050\n",
       "2020-05-01     54350\n",
       "2020-05-04     81406\n",
       "2020-05-05     50829\n",
       "2020-05-06     54369\n",
       "2020-05-07     62953\n",
       "2020-05-08     68874\n",
       "Name: swine_head_count, Length: 259, dtype: int64"
      ]
     },
     "execution_count": 25,
     "metadata": {},
     "output_type": "execute_result"
    }
   ],
   "source": [
    "swine_head_count"
   ]
  },
  {
   "cell_type": "code",
   "execution_count": 26,
   "metadata": {},
   "outputs": [
    {
     "data": {
      "text/plain": [
       "DATE\n",
       "2019-05-01    81.99\n",
       "2019-05-02    83.92\n",
       "2019-05-03    82.01\n",
       "2019-05-06    82.89\n",
       "2019-05-07    85.67\n",
       "Name: product_price, dtype: float64"
      ]
     },
     "execution_count": 26,
     "metadata": {},
     "output_type": "execute_result"
    }
   ],
   "source": [
    "product_price.head()"
   ]
  },
  {
   "cell_type": "code",
   "execution_count": 27,
   "metadata": {},
   "outputs": [
    {
     "data": {},
     "metadata": {},
     "output_type": "display_data"
    },
    {
     "data": {
      "application/vnd.holoviews_exec.v0+json": "",
      "text/html": [
       "<div id='1677'>\n",
       "\n",
       "\n",
       "\n",
       "\n",
       "\n",
       "  <div class=\"bk-root\" id=\"bcc0a260-1d84-459b-ba71-ca451d1f8c88\" data-root-id=\"1677\"></div>\n",
       "</div>\n",
       "<script type=\"application/javascript\">(function(root) {\n",
       "  function embed_document(root) {\n",
       "  var docs_json = {\"009b7b3f-393e-4b97-b704-511dfd8382d0\":{\"roots\":{\"references\":[{\"attributes\":{\"months\":[0,2,4,6,8,10]},\"id\":\"1737\",\"type\":\"MonthsTicker\"},{\"attributes\":{\"axis_label\":\"DATE\",\"bounds\":\"auto\",\"formatter\":{\"id\":\"1721\"},\"major_label_orientation\":\"horizontal\",\"ticker\":{\"id\":\"1692\"}},\"id\":\"1691\",\"type\":\"DatetimeAxis\"},{\"attributes\":{},\"id\":\"1742\",\"type\":\"UnionRenderers\"},{\"attributes\":{\"mantissas\":[1,2,5],\"max_interval\":500.0,\"num_minor_ticks\":0},\"id\":\"1729\",\"type\":\"AdaptiveTicker\"},{\"attributes\":{\"line_alpha\":0.2,\"line_color\":\"#1f77b3\",\"line_width\":2,\"x\":{\"field\":\"DATE\"},\"y\":{\"field\":\"product_price\"}},\"id\":\"1717\",\"type\":\"Line\"},{\"attributes\":{\"margin\":[5,5,5,5],\"name\":\"HSpacer02166\",\"sizing_mode\":\"stretch_width\"},\"id\":\"1678\",\"type\":\"Spacer\"},{\"attributes\":{\"months\":[0,6]},\"id\":\"1739\",\"type\":\"MonthsTicker\"},{\"attributes\":{\"num_minor_ticks\":5,\"tickers\":[{\"id\":\"1729\"},{\"id\":\"1730\"},{\"id\":\"1731\"},{\"id\":\"1732\"},{\"id\":\"1733\"},{\"id\":\"1734\"},{\"id\":\"1735\"},{\"id\":\"1736\"},{\"id\":\"1737\"},{\"id\":\"1738\"},{\"id\":\"1739\"},{\"id\":\"1740\"}]},\"id\":\"1692\",\"type\":\"DatetimeTicker\"},{\"attributes\":{\"axis\":{\"id\":\"1695\"},\"dimension\":1,\"grid_line_color\":null,\"ticker\":null},\"id\":\"1698\",\"type\":\"Grid\"},{\"attributes\":{\"days\":[1,4,7,10,13,16,19,22,25,28]},\"id\":\"1733\",\"type\":\"DaysTicker\"},{\"attributes\":{},\"id\":\"1687\",\"type\":\"LinearScale\"},{\"attributes\":{},\"id\":\"1713\",\"type\":\"Selection\"},{\"attributes\":{\"margin\":[5,5,5,5],\"name\":\"HSpacer02167\",\"sizing_mode\":\"stretch_width\"},\"id\":\"1744\",\"type\":\"Spacer\"},{\"attributes\":{},\"id\":\"1696\",\"type\":\"BasicTicker\"},{\"attributes\":{\"base\":24,\"mantissas\":[1,2,4,6,8,12],\"max_interval\":43200000.0,\"min_interval\":3600000.0,\"num_minor_ticks\":0},\"id\":\"1731\",\"type\":\"AdaptiveTicker\"},{\"attributes\":{\"overlay\":{\"id\":\"1704\"}},\"id\":\"1702\",\"type\":\"BoxZoomTool\"},{\"attributes\":{\"months\":[0,1,2,3,4,5,6,7,8,9,10,11]},\"id\":\"1736\",\"type\":\"MonthsTicker\"},{\"attributes\":{},\"id\":\"1740\",\"type\":\"YearsTicker\"},{\"attributes\":{\"axis\":{\"id\":\"1691\"},\"grid_line_color\":null,\"ticker\":null},\"id\":\"1694\",\"type\":\"Grid\"},{\"attributes\":{},\"id\":\"1723\",\"type\":\"BasicTickFormatter\"},{\"attributes\":{\"days\":[1,15]},\"id\":\"1735\",\"type\":\"DaysTicker\"},{\"attributes\":{},\"id\":\"1703\",\"type\":\"ResetTool\"},{\"attributes\":{\"source\":{\"id\":\"1712\"}},\"id\":\"1719\",\"type\":\"CDSView\"},{\"attributes\":{\"base\":60,\"mantissas\":[1,2,5,10,15,20,30],\"max_interval\":1800000.0,\"min_interval\":1000.0,\"num_minor_ticks\":0},\"id\":\"1730\",\"type\":\"AdaptiveTicker\"},{\"attributes\":{\"months\":[0,4,8]},\"id\":\"1738\",\"type\":\"MonthsTicker\"},{\"attributes\":{\"days\":[1,2,3,4,5,6,7,8,9,10,11,12,13,14,15,16,17,18,19,20,21,22,23,24,25,26,27,28,29,30,31]},\"id\":\"1732\",\"type\":\"DaysTicker\"},{\"attributes\":{},\"id\":\"1689\",\"type\":\"LinearScale\"},{\"attributes\":{\"text\":\"Product Price for Hog Parts\",\"text_color\":{\"value\":\"black\"},\"text_font_size\":{\"value\":\"12pt\"}},\"id\":\"1683\",\"type\":\"Title\"},{\"attributes\":{},\"id\":\"1701\",\"type\":\"WheelZoomTool\"},{\"attributes\":{\"end\":1588896000000.0,\"reset_end\":1588896000000.0,\"reset_start\":1556668800000.0,\"start\":1556668800000.0,\"tags\":[[[\"DATE\",\"DATE\",null]]]},\"id\":\"1679\",\"type\":\"Range1d\"},{\"attributes\":{\"callback\":null,\"formatters\":{\"@{DATE}\":\"datetime\"},\"renderers\":[{\"id\":\"1718\"}],\"tags\":[\"hv_created\"],\"tooltips\":[[\"DATE\",\"@{DATE}{%F %T}\"],[\"product_price\",\"@{product_price}\"]]},\"id\":\"1681\",\"type\":\"HoverTool\"},{\"attributes\":{\"end\":123.27199999999999,\"reset_end\":123.27199999999999,\"reset_start\":44.888000000000005,\"start\":44.888000000000005,\"tags\":[[[\"product_price\",\"product_price\",null]]]},\"id\":\"1680\",\"type\":\"Range1d\"},{\"attributes\":{\"data_source\":{\"id\":\"1712\"},\"glyph\":{\"id\":\"1715\"},\"hover_glyph\":null,\"muted_glyph\":{\"id\":\"1717\"},\"nonselection_glyph\":{\"id\":\"1716\"},\"selection_glyph\":null,\"view\":{\"id\":\"1719\"}},\"id\":\"1718\",\"type\":\"GlyphRenderer\"},{\"attributes\":{\"line_alpha\":0.1,\"line_color\":\"#1f77b3\",\"line_width\":2,\"x\":{\"field\":\"DATE\"},\"y\":{\"field\":\"product_price\"}},\"id\":\"1716\",\"type\":\"Line\"},{\"attributes\":{\"line_color\":\"#1f77b3\",\"line_width\":2,\"x\":{\"field\":\"DATE\"},\"y\":{\"field\":\"product_price\"}},\"id\":\"1715\",\"type\":\"Line\"},{\"attributes\":{},\"id\":\"1700\",\"type\":\"PanTool\"},{\"attributes\":{},\"id\":\"1699\",\"type\":\"SaveTool\"},{\"attributes\":{\"axis_label\":\"\",\"bounds\":\"auto\",\"formatter\":{\"id\":\"1723\"},\"major_label_orientation\":\"horizontal\",\"ticker\":{\"id\":\"1696\"}},\"id\":\"1695\",\"type\":\"LinearAxis\"},{\"attributes\":{\"active_drag\":\"auto\",\"active_inspect\":\"auto\",\"active_multi\":null,\"active_scroll\":\"auto\",\"active_tap\":\"auto\",\"tools\":[{\"id\":\"1681\"},{\"id\":\"1699\"},{\"id\":\"1700\"},{\"id\":\"1701\"},{\"id\":\"1702\"},{\"id\":\"1703\"}]},\"id\":\"1705\",\"type\":\"Toolbar\"},{\"attributes\":{},\"id\":\"1721\",\"type\":\"DatetimeTickFormatter\"},{\"attributes\":{\"data\":{\"DATE\":{\"__ndarray__\":\"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\",\"dtype\":\"float64\",\"shape\":[259]},\"product_price\":{\"__ndarray__\":\"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\",\"dtype\":\"float64\",\"shape\":[259]}},\"selected\":{\"id\":\"1713\"},\"selection_policy\":{\"id\":\"1742\"}},\"id\":\"1712\",\"type\":\"ColumnDataSource\"},{\"attributes\":{\"align\":null,\"below\":[{\"id\":\"1691\"}],\"center\":[{\"id\":\"1694\"},{\"id\":\"1698\"}],\"left\":[{\"id\":\"1695\"}],\"margin\":null,\"min_border_bottom\":10,\"min_border_left\":10,\"min_border_right\":10,\"min_border_top\":10,\"plot_height\":400,\"plot_width\":500,\"renderers\":[{\"id\":\"1718\"}],\"sizing_mode\":\"fixed\",\"title\":{\"id\":\"1683\"},\"toolbar\":{\"id\":\"1705\"},\"x_range\":{\"id\":\"1679\"},\"x_scale\":{\"id\":\"1687\"},\"y_range\":{\"id\":\"1680\"},\"y_scale\":{\"id\":\"1689\"}},\"id\":\"1682\",\"subtype\":\"Figure\",\"type\":\"Plot\"},{\"attributes\":{\"bottom_units\":\"screen\",\"fill_alpha\":0.5,\"fill_color\":\"lightgrey\",\"left_units\":\"screen\",\"level\":\"overlay\",\"line_alpha\":1.0,\"line_color\":\"black\",\"line_dash\":[4,4],\"line_width\":2,\"render_mode\":\"css\",\"right_units\":\"screen\",\"top_units\":\"screen\"},\"id\":\"1704\",\"type\":\"BoxAnnotation\"},{\"attributes\":{\"children\":[{\"id\":\"1678\"},{\"id\":\"1682\"},{\"id\":\"1744\"}],\"margin\":[0,0,0,0],\"name\":\"Row02162\",\"tags\":[\"embedded\"]},\"id\":\"1677\",\"type\":\"Row\"},{\"attributes\":{\"days\":[1,8,15,22]},\"id\":\"1734\",\"type\":\"DaysTicker\"}],\"root_ids\":[\"1677\"]},\"title\":\"Bokeh Application\",\"version\":\"2.0.1\"}};\n",
       "  var render_items = [{\"docid\":\"009b7b3f-393e-4b97-b704-511dfd8382d0\",\"root_ids\":[\"1677\"],\"roots\":{\"1677\":\"bcc0a260-1d84-459b-ba71-ca451d1f8c88\"}}];\n",
       "  root.Bokeh.embed.embed_items_notebook(docs_json, render_items);\n",
       "  }\n",
       "if (root.Bokeh !== undefined) {\n",
       "    embed_document(root);\n",
       "  } else {\n",
       "    var attempts = 0;\n",
       "    var timer = setInterval(function(root) {\n",
       "      if (root.Bokeh !== undefined) {\n",
       "        clearInterval(timer);\n",
       "        embed_document(root);\n",
       "      } else if (document.readyState == \"complete\") {\n",
       "        attempts++;\n",
       "        if (attempts > 100) {\n",
       "          clearInterval(timer);\n",
       "          console.log(\"Bokeh: ERROR: Unable to run BokehJS code because BokehJS library is missing\");\n",
       "        }\n",
       "      }\n",
       "    }, 10, root)\n",
       "  }\n",
       "})(window);</script>"
      ],
      "text/plain": [
       ":Curve   [DATE]   (product_price)"
      ]
     },
     "execution_count": 27,
     "metadata": {
      "application/vnd.holoviews_exec.v0+json": {
       "id": "1677"
      }
     },
     "output_type": "execute_result"
    }
   ],
   "source": [
    "product_price.hvplot.line(\n",
    "    label=\"Product Price for Hog Parts\",\n",
    "    height=400,\n",
    "    width=500)\n"
   ]
  },
  {
   "cell_type": "code",
   "execution_count": 28,
   "metadata": {},
   "outputs": [
    {
     "data": {},
     "metadata": {},
     "output_type": "display_data"
    },
    {
     "data": {
      "application/vnd.holoviews_exec.v0+json": "",
      "text/html": [
       "<div id='1846'>\n",
       "\n",
       "\n",
       "\n",
       "\n",
       "\n",
       "  <div class=\"bk-root\" id=\"739ffc4a-5bd0-4894-bd5f-d3dbe76c42f5\" data-root-id=\"1846\"></div>\n",
       "</div>\n",
       "<script type=\"application/javascript\">(function(root) {\n",
       "  function embed_document(root) {\n",
       "  var docs_json = {\"1eee0b0a-a262-4792-8dbd-57f72b20b036\":{\"roots\":{\"references\":[{\"attributes\":{},\"id\":\"1909\",\"type\":\"YearsTicker\"},{\"attributes\":{\"text\":\"Hog Carcass Price\",\"text_color\":{\"value\":\"black\"},\"text_font_size\":{\"value\":\"12pt\"}},\"id\":\"1852\",\"type\":\"Title\"},{\"attributes\":{\"end\":1588896000000.0,\"reset_end\":1588896000000.0,\"reset_start\":1556668800000.0,\"start\":1556668800000.0,\"tags\":[[[\"DATE\",\"DATE\",null]]]},\"id\":\"1848\",\"type\":\"Range1d\"},{\"attributes\":{\"line_alpha\":0.2,\"line_color\":\"#1f77b3\",\"line_width\":2,\"x\":{\"field\":\"DATE\"},\"y\":{\"field\":\"hog_tops\"}},\"id\":\"1886\",\"type\":\"Line\"},{\"attributes\":{\"callback\":null,\"formatters\":{\"@{DATE}\":\"datetime\"},\"renderers\":[{\"id\":\"1887\"}],\"tags\":[\"hv_created\"],\"tooltips\":[[\"DATE\",\"@{DATE}{%F %T}\"],[\"hog_tops\",\"@{hog_tops}\"]]},\"id\":\"1850\",\"type\":\"HoverTool\"},{\"attributes\":{\"months\":[0,1,2,3,4,5,6,7,8,9,10,11]},\"id\":\"1905\",\"type\":\"MonthsTicker\"},{\"attributes\":{\"months\":[0,4,8]},\"id\":\"1907\",\"type\":\"MonthsTicker\"},{\"attributes\":{},\"id\":\"1911\",\"type\":\"UnionRenderers\"},{\"attributes\":{\"end\":93.5,\"reset_end\":93.5,\"reset_start\":27.5,\"start\":27.5,\"tags\":[[[\"hog_tops\",\"hog_tops\",null]]]},\"id\":\"1849\",\"type\":\"Range1d\"},{\"attributes\":{},\"id\":\"1892\",\"type\":\"BasicTickFormatter\"},{\"attributes\":{\"months\":[0,6]},\"id\":\"1908\",\"type\":\"MonthsTicker\"},{\"attributes\":{},\"id\":\"1865\",\"type\":\"BasicTicker\"},{\"attributes\":{\"bottom_units\":\"screen\",\"fill_alpha\":0.5,\"fill_color\":\"lightgrey\",\"left_units\":\"screen\",\"level\":\"overlay\",\"line_alpha\":1.0,\"line_color\":\"black\",\"line_dash\":[4,4],\"line_width\":2,\"render_mode\":\"css\",\"right_units\":\"screen\",\"top_units\":\"screen\"},\"id\":\"1873\",\"type\":\"BoxAnnotation\"},{\"attributes\":{},\"id\":\"1882\",\"type\":\"Selection\"},{\"attributes\":{\"data_source\":{\"id\":\"1881\"},\"glyph\":{\"id\":\"1884\"},\"hover_glyph\":null,\"muted_glyph\":{\"id\":\"1886\"},\"nonselection_glyph\":{\"id\":\"1885\"},\"selection_glyph\":null,\"view\":{\"id\":\"1888\"}},\"id\":\"1887\",\"type\":\"GlyphRenderer\"},{\"attributes\":{\"axis\":{\"id\":\"1864\"},\"dimension\":1,\"grid_line_color\":null,\"ticker\":null},\"id\":\"1867\",\"type\":\"Grid\"},{\"attributes\":{\"active_drag\":\"auto\",\"active_inspect\":\"auto\",\"active_multi\":null,\"active_scroll\":\"auto\",\"active_tap\":\"auto\",\"tools\":[{\"id\":\"1850\"},{\"id\":\"1868\"},{\"id\":\"1869\"},{\"id\":\"1870\"},{\"id\":\"1871\"},{\"id\":\"1872\"}]},\"id\":\"1874\",\"type\":\"Toolbar\"},{\"attributes\":{\"line_alpha\":0.1,\"line_color\":\"#1f77b3\",\"line_width\":2,\"x\":{\"field\":\"DATE\"},\"y\":{\"field\":\"hog_tops\"}},\"id\":\"1885\",\"type\":\"Line\"},{\"attributes\":{\"axis_label\":\"\",\"bounds\":\"auto\",\"formatter\":{\"id\":\"1892\"},\"major_label_orientation\":\"horizontal\",\"ticker\":{\"id\":\"1865\"}},\"id\":\"1864\",\"type\":\"LinearAxis\"},{\"attributes\":{\"days\":[1,4,7,10,13,16,19,22,25,28]},\"id\":\"1902\",\"type\":\"DaysTicker\"},{\"attributes\":{\"base\":60,\"mantissas\":[1,2,5,10,15,20,30],\"max_interval\":1800000.0,\"min_interval\":1000.0,\"num_minor_ticks\":0},\"id\":\"1899\",\"type\":\"AdaptiveTicker\"},{\"attributes\":{\"margin\":[5,5,5,5],\"name\":\"HSpacer02330\",\"sizing_mode\":\"stretch_width\"},\"id\":\"1913\",\"type\":\"Spacer\"},{\"attributes\":{\"days\":[1,2,3,4,5,6,7,8,9,10,11,12,13,14,15,16,17,18,19,20,21,22,23,24,25,26,27,28,29,30,31]},\"id\":\"1901\",\"type\":\"DaysTicker\"},{\"attributes\":{\"children\":[{\"id\":\"1847\"},{\"id\":\"1851\"},{\"id\":\"1913\"}],\"margin\":[0,0,0,0],\"name\":\"Row02325\",\"tags\":[\"embedded\"]},\"id\":\"1846\",\"type\":\"Row\"},{\"attributes\":{\"mantissas\":[1,2,5],\"max_interval\":500.0,\"num_minor_ticks\":0},\"id\":\"1898\",\"type\":\"AdaptiveTicker\"},{\"attributes\":{},\"id\":\"1856\",\"type\":\"LinearScale\"},{\"attributes\":{\"axis_label\":\"DATE\",\"bounds\":\"auto\",\"formatter\":{\"id\":\"1890\"},\"major_label_orientation\":\"horizontal\",\"ticker\":{\"id\":\"1861\"}},\"id\":\"1860\",\"type\":\"DatetimeAxis\"},{\"attributes\":{\"line_color\":\"#1f77b3\",\"line_width\":2,\"x\":{\"field\":\"DATE\"},\"y\":{\"field\":\"hog_tops\"}},\"id\":\"1884\",\"type\":\"Line\"},{\"attributes\":{\"axis\":{\"id\":\"1860\"},\"grid_line_color\":null,\"ticker\":null},\"id\":\"1863\",\"type\":\"Grid\"},{\"attributes\":{},\"id\":\"1890\",\"type\":\"DatetimeTickFormatter\"},{\"attributes\":{\"days\":[1,15]},\"id\":\"1904\",\"type\":\"DaysTicker\"},{\"attributes\":{},\"id\":\"1872\",\"type\":\"ResetTool\"},{\"attributes\":{\"margin\":[5,5,5,5],\"name\":\"HSpacer02329\",\"sizing_mode\":\"stretch_width\"},\"id\":\"1847\",\"type\":\"Spacer\"},{\"attributes\":{\"days\":[1,8,15,22]},\"id\":\"1903\",\"type\":\"DaysTicker\"},{\"attributes\":{},\"id\":\"1858\",\"type\":\"LinearScale\"},{\"attributes\":{\"num_minor_ticks\":5,\"tickers\":[{\"id\":\"1898\"},{\"id\":\"1899\"},{\"id\":\"1900\"},{\"id\":\"1901\"},{\"id\":\"1902\"},{\"id\":\"1903\"},{\"id\":\"1904\"},{\"id\":\"1905\"},{\"id\":\"1906\"},{\"id\":\"1907\"},{\"id\":\"1908\"},{\"id\":\"1909\"}]},\"id\":\"1861\",\"type\":\"DatetimeTicker\"},{\"attributes\":{\"source\":{\"id\":\"1881\"}},\"id\":\"1888\",\"type\":\"CDSView\"},{\"attributes\":{\"base\":24,\"mantissas\":[1,2,4,6,8,12],\"max_interval\":43200000.0,\"min_interval\":3600000.0,\"num_minor_ticks\":0},\"id\":\"1900\",\"type\":\"AdaptiveTicker\"},{\"attributes\":{\"months\":[0,2,4,6,8,10]},\"id\":\"1906\",\"type\":\"MonthsTicker\"},{\"attributes\":{},\"id\":\"1868\",\"type\":\"SaveTool\"},{\"attributes\":{},\"id\":\"1869\",\"type\":\"PanTool\"},{\"attributes\":{\"overlay\":{\"id\":\"1873\"}},\"id\":\"1871\",\"type\":\"BoxZoomTool\"},{\"attributes\":{\"data\":{\"DATE\":{\"__ndarray__\":\"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\",\"dtype\":\"float64\",\"shape\":[259]},\"hog_tops\":{\"__ndarray__\":\"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\",\"dtype\":\"float64\",\"shape\":[259]}},\"selected\":{\"id\":\"1882\"},\"selection_policy\":{\"id\":\"1911\"}},\"id\":\"1881\",\"type\":\"ColumnDataSource\"},{\"attributes\":{\"align\":null,\"below\":[{\"id\":\"1860\"}],\"center\":[{\"id\":\"1863\"},{\"id\":\"1867\"}],\"left\":[{\"id\":\"1864\"}],\"margin\":null,\"min_border_bottom\":10,\"min_border_left\":10,\"min_border_right\":10,\"min_border_top\":10,\"plot_height\":400,\"plot_width\":500,\"renderers\":[{\"id\":\"1887\"}],\"sizing_mode\":\"fixed\",\"title\":{\"id\":\"1852\"},\"toolbar\":{\"id\":\"1874\"},\"x_range\":{\"id\":\"1848\"},\"x_scale\":{\"id\":\"1856\"},\"y_range\":{\"id\":\"1849\"},\"y_scale\":{\"id\":\"1858\"}},\"id\":\"1851\",\"subtype\":\"Figure\",\"type\":\"Plot\"},{\"attributes\":{},\"id\":\"1870\",\"type\":\"WheelZoomTool\"}],\"root_ids\":[\"1846\"]},\"title\":\"Bokeh Application\",\"version\":\"2.0.1\"}};\n",
       "  var render_items = [{\"docid\":\"1eee0b0a-a262-4792-8dbd-57f72b20b036\",\"root_ids\":[\"1846\"],\"roots\":{\"1846\":\"739ffc4a-5bd0-4894-bd5f-d3dbe76c42f5\"}}];\n",
       "  root.Bokeh.embed.embed_items_notebook(docs_json, render_items);\n",
       "  }\n",
       "if (root.Bokeh !== undefined) {\n",
       "    embed_document(root);\n",
       "  } else {\n",
       "    var attempts = 0;\n",
       "    var timer = setInterval(function(root) {\n",
       "      if (root.Bokeh !== undefined) {\n",
       "        clearInterval(timer);\n",
       "        embed_document(root);\n",
       "      } else if (document.readyState == \"complete\") {\n",
       "        attempts++;\n",
       "        if (attempts > 100) {\n",
       "          clearInterval(timer);\n",
       "          console.log(\"Bokeh: ERROR: Unable to run BokehJS code because BokehJS library is missing\");\n",
       "        }\n",
       "      }\n",
       "    }, 10, root)\n",
       "  }\n",
       "})(window);</script>"
      ],
      "text/plain": [
       ":Curve   [DATE]   (hog_tops)"
      ]
     },
     "execution_count": 28,
     "metadata": {
      "application/vnd.holoviews_exec.v0+json": {
       "id": "1846"
      }
     },
     "output_type": "execute_result"
    }
   ],
   "source": [
    "hog_tops.hvplot.line(\n",
    "    label=\"Hog Carcass Price\",\n",
    "    height=400, \n",
    "    width=500)"
   ]
  },
  {
   "cell_type": "code",
   "execution_count": 29,
   "metadata": {},
   "outputs": [
    {
     "data": {},
     "metadata": {},
     "output_type": "display_data"
    },
    {
     "data": {
      "application/vnd.holoviews_exec.v0+json": "",
      "text/html": [
       "<div id='2015'>\n",
       "\n",
       "\n",
       "\n",
       "\n",
       "\n",
       "  <div class=\"bk-root\" id=\"27d64aaf-95bd-4312-9b21-fc3c3efe896d\" data-root-id=\"2015\"></div>\n",
       "</div>\n",
       "<script type=\"application/javascript\">(function(root) {\n",
       "  function embed_document(root) {\n",
       "  var docs_json = {\"eed8bd40-7d70-46cc-90d7-59b53335ebd3\":{\"roots\":{\"references\":[{\"attributes\":{},\"id\":\"2039\",\"type\":\"WheelZoomTool\"},{\"attributes\":{\"data\":{\"DATE\":{\"__ndarray__\":\"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\",\"dtype\":\"float64\",\"shape\":[259]},\"swine_head_count\":[115153,119015,116727,131107,108753,115540,117365,118284,114858,103469,107217,116069,104655,117424,97979,109589,108880,113499,113501,108230,106822,112247,180553,106282,116010,115755,116633,146328,110284,111759,113618,119684,133846,100054,106286,112141,114088,137494,99815,107526,105948,120762,118578,97209,110975,112912,159602,102489,108979,111077,114904,122118,95575,103011,98015,107365,109929,100878,103555,104219,106057,92831,94052,106557,104375,109240,102768,86902,105672,107712,108492,134579,100826,102733,109616,109839,166843,106472,104363,108333,114186,144149,108881,105907,111246,105052,127835,107417,109602,110036,189938,109371,113541,109968,107736,156634,102561,104991,113009,108103,174109,102399,103085,102839,112841,173695,101606,109998,107971,105816,173042,113078,112952,112036,115190,183029,110354,112985,107110,108900,177084,104817,111761,106463,115217,156840,108506,113137,110004,109363,166731,105355,114017,112691,112035,170393,98656,118401,112842,115423,214303,112301,113028,114878,112272,209673,107933,115973,113318,220877,108980,110842,115885,112549,184143,113159,115908,112789,106199,217144,116310,108849,105889,114336,195966,150165,103988,103988,216723,102724,93072,108242,210484,117069,112734,114898,109388,191161,109356,110310,117571,110652,90081,113004,114119,110694,193494,104471,112621,110109,122550,177110,104916,123435,120464,119114,184142,123355,122981,126722,132355,108411,116240,114773,119490,163556,119884,117552,122301,119951,157005,115547,123354,114966,121755,197087,120899,121508,117676,122494,181908,114521,118636,113160,126358,191264,119187,119067,127590,124239,205267,127489,130380,111415,126422,170278,111063,121704,117539,124357,69763,107476,104573,113204,144722,81712,70052,73795,69189,115348,63679,65139,50050,54350,81406,50829,54369,62953,68874]},\"selected\":{\"id\":\"2051\"},\"selection_policy\":{\"id\":\"2080\"}},\"id\":\"2050\",\"type\":\"ColumnDataSource\"},{\"attributes\":{\"margin\":[5,5,5,5],\"name\":\"HSpacer02492\",\"sizing_mode\":\"stretch_width\"},\"id\":\"2016\",\"type\":\"Spacer\"},{\"attributes\":{\"months\":[0,4,8]},\"id\":\"2076\",\"type\":\"MonthsTicker\"},{\"attributes\":{},\"id\":\"2037\",\"type\":\"SaveTool\"},{\"attributes\":{},\"id\":\"2080\",\"type\":\"UnionRenderers\"},{\"attributes\":{\"children\":[{\"id\":\"2016\"},{\"id\":\"2020\"},{\"id\":\"2082\"}],\"margin\":[0,0,0,0],\"name\":\"Row02488\",\"tags\":[\"embedded\"]},\"id\":\"2015\",\"type\":\"Row\"},{\"attributes\":{\"mantissas\":[1,2,5],\"max_interval\":500.0,\"num_minor_ticks\":0},\"id\":\"2067\",\"type\":\"AdaptiveTicker\"},{\"attributes\":{\"margin\":[5,5,5,5],\"name\":\"HSpacer02493\",\"sizing_mode\":\"stretch_width\"},\"id\":\"2082\",\"type\":\"Spacer\"},{\"attributes\":{\"source\":{\"id\":\"2050\"}},\"id\":\"2057\",\"type\":\"CDSView\"},{\"attributes\":{\"base\":24,\"mantissas\":[1,2,4,6,8,12],\"max_interval\":43200000.0,\"min_interval\":3600000.0,\"num_minor_ticks\":0},\"id\":\"2069\",\"type\":\"AdaptiveTicker\"},{\"attributes\":{\"days\":[1,8,15,22]},\"id\":\"2072\",\"type\":\"DaysTicker\"},{\"attributes\":{\"days\":[1,2,3,4,5,6,7,8,9,10,11,12,13,14,15,16,17,18,19,20,21,22,23,24,25,26,27,28,29,30,31]},\"id\":\"2070\",\"type\":\"DaysTicker\"},{\"attributes\":{\"months\":[0,1,2,3,4,5,6,7,8,9,10,11]},\"id\":\"2074\",\"type\":\"MonthsTicker\"},{\"attributes\":{\"callback\":null,\"formatters\":{\"@{DATE}\":\"datetime\"},\"renderers\":[{\"id\":\"2056\"}],\"tags\":[\"hv_created\"],\"tooltips\":[[\"DATE\",\"@{DATE}{%F %T}\"],[\"swine_head_count\",\"@{swine_head_count}\"]]},\"id\":\"2019\",\"type\":\"HoverTool\"},{\"attributes\":{\"active_drag\":\"auto\",\"active_inspect\":\"auto\",\"active_multi\":null,\"active_scroll\":\"auto\",\"active_tap\":\"auto\",\"tools\":[{\"id\":\"2019\"},{\"id\":\"2037\"},{\"id\":\"2038\"},{\"id\":\"2039\"},{\"id\":\"2040\"},{\"id\":\"2041\"}]},\"id\":\"2043\",\"type\":\"Toolbar\"},{\"attributes\":{},\"id\":\"2034\",\"type\":\"BasicTicker\"},{\"attributes\":{},\"id\":\"2078\",\"type\":\"YearsTicker\"},{\"attributes\":{\"num_minor_ticks\":5,\"tickers\":[{\"id\":\"2067\"},{\"id\":\"2068\"},{\"id\":\"2069\"},{\"id\":\"2070\"},{\"id\":\"2071\"},{\"id\":\"2072\"},{\"id\":\"2073\"},{\"id\":\"2074\"},{\"id\":\"2075\"},{\"id\":\"2076\"},{\"id\":\"2077\"},{\"id\":\"2078\"}]},\"id\":\"2030\",\"type\":\"DatetimeTicker\"},{\"attributes\":{\"bottom_units\":\"screen\",\"fill_alpha\":0.5,\"fill_color\":\"lightgrey\",\"left_units\":\"screen\",\"level\":\"overlay\",\"line_alpha\":1.0,\"line_color\":\"black\",\"line_dash\":[4,4],\"line_width\":2,\"render_mode\":\"css\",\"right_units\":\"screen\",\"top_units\":\"screen\"},\"id\":\"2042\",\"type\":\"BoxAnnotation\"},{\"attributes\":{},\"id\":\"2059\",\"type\":\"DatetimeTickFormatter\"},{\"attributes\":{\"end\":237959.7,\"reset_end\":237959.7,\"reset_start\":32967.3,\"start\":32967.3,\"tags\":[[[\"swine_head_count\",\"swine_head_count\",null]]]},\"id\":\"2018\",\"type\":\"Range1d\"},{\"attributes\":{\"base\":60,\"mantissas\":[1,2,5,10,15,20,30],\"max_interval\":1800000.0,\"min_interval\":1000.0,\"num_minor_ticks\":0},\"id\":\"2068\",\"type\":\"AdaptiveTicker\"},{\"attributes\":{\"axis\":{\"id\":\"2029\"},\"grid_line_color\":null,\"ticker\":null},\"id\":\"2032\",\"type\":\"Grid\"},{\"attributes\":{\"end\":1588896000000.0,\"reset_end\":1588896000000.0,\"reset_start\":1556668800000.0,\"start\":1556668800000.0,\"tags\":[[[\"DATE\",\"DATE\",null]]]},\"id\":\"2017\",\"type\":\"Range1d\"},{\"attributes\":{\"axis\":{\"id\":\"2033\"},\"dimension\":1,\"grid_line_color\":null,\"ticker\":null},\"id\":\"2036\",\"type\":\"Grid\"},{\"attributes\":{\"align\":null,\"below\":[{\"id\":\"2029\"}],\"center\":[{\"id\":\"2032\"},{\"id\":\"2036\"}],\"left\":[{\"id\":\"2033\"}],\"margin\":null,\"min_border_bottom\":10,\"min_border_left\":10,\"min_border_right\":10,\"min_border_top\":10,\"plot_height\":400,\"plot_width\":500,\"renderers\":[{\"id\":\"2056\"}],\"sizing_mode\":\"fixed\",\"title\":{\"id\":\"2021\"},\"toolbar\":{\"id\":\"2043\"},\"x_range\":{\"id\":\"2017\"},\"x_scale\":{\"id\":\"2025\"},\"y_range\":{\"id\":\"2018\"},\"y_scale\":{\"id\":\"2027\"}},\"id\":\"2020\",\"subtype\":\"Figure\",\"type\":\"Plot\"},{\"attributes\":{\"axis_label\":\"DATE\",\"bounds\":\"auto\",\"formatter\":{\"id\":\"2059\"},\"major_label_orientation\":\"horizontal\",\"ticker\":{\"id\":\"2030\"}},\"id\":\"2029\",\"type\":\"DatetimeAxis\"},{\"attributes\":{\"months\":[0,2,4,6,8,10]},\"id\":\"2075\",\"type\":\"MonthsTicker\"},{\"attributes\":{},\"id\":\"2041\",\"type\":\"ResetTool\"},{\"attributes\":{},\"id\":\"2038\",\"type\":\"PanTool\"},{\"attributes\":{\"days\":[1,4,7,10,13,16,19,22,25,28]},\"id\":\"2071\",\"type\":\"DaysTicker\"},{\"attributes\":{\"months\":[0,6]},\"id\":\"2077\",\"type\":\"MonthsTicker\"},{\"attributes\":{},\"id\":\"2051\",\"type\":\"Selection\"},{\"attributes\":{\"days\":[1,15]},\"id\":\"2073\",\"type\":\"DaysTicker\"},{\"attributes\":{},\"id\":\"2027\",\"type\":\"LinearScale\"},{\"attributes\":{},\"id\":\"2025\",\"type\":\"LinearScale\"},{\"attributes\":{\"overlay\":{\"id\":\"2042\"}},\"id\":\"2040\",\"type\":\"BoxZoomTool\"},{\"attributes\":{\"line_alpha\":0.2,\"line_color\":\"#1f77b3\",\"line_width\":2,\"x\":{\"field\":\"DATE\"},\"y\":{\"field\":\"swine_head_count\"}},\"id\":\"2055\",\"type\":\"Line\"},{\"attributes\":{\"text\":\"Slaughtered Pig Count\",\"text_color\":{\"value\":\"black\"},\"text_font_size\":{\"value\":\"12pt\"}},\"id\":\"2021\",\"type\":\"Title\"},{\"attributes\":{\"data_source\":{\"id\":\"2050\"},\"glyph\":{\"id\":\"2053\"},\"hover_glyph\":null,\"muted_glyph\":{\"id\":\"2055\"},\"nonselection_glyph\":{\"id\":\"2054\"},\"selection_glyph\":null,\"view\":{\"id\":\"2057\"}},\"id\":\"2056\",\"type\":\"GlyphRenderer\"},{\"attributes\":{},\"id\":\"2061\",\"type\":\"BasicTickFormatter\"},{\"attributes\":{\"line_color\":\"#1f77b3\",\"line_width\":2,\"x\":{\"field\":\"DATE\"},\"y\":{\"field\":\"swine_head_count\"}},\"id\":\"2053\",\"type\":\"Line\"},{\"attributes\":{\"axis_label\":\"\",\"bounds\":\"auto\",\"formatter\":{\"id\":\"2061\"},\"major_label_orientation\":\"horizontal\",\"ticker\":{\"id\":\"2034\"}},\"id\":\"2033\",\"type\":\"LinearAxis\"},{\"attributes\":{\"line_alpha\":0.1,\"line_color\":\"#1f77b3\",\"line_width\":2,\"x\":{\"field\":\"DATE\"},\"y\":{\"field\":\"swine_head_count\"}},\"id\":\"2054\",\"type\":\"Line\"}],\"root_ids\":[\"2015\"]},\"title\":\"Bokeh Application\",\"version\":\"2.0.1\"}};\n",
       "  var render_items = [{\"docid\":\"eed8bd40-7d70-46cc-90d7-59b53335ebd3\",\"root_ids\":[\"2015\"],\"roots\":{\"2015\":\"27d64aaf-95bd-4312-9b21-fc3c3efe896d\"}}];\n",
       "  root.Bokeh.embed.embed_items_notebook(docs_json, render_items);\n",
       "  }\n",
       "if (root.Bokeh !== undefined) {\n",
       "    embed_document(root);\n",
       "  } else {\n",
       "    var attempts = 0;\n",
       "    var timer = setInterval(function(root) {\n",
       "      if (root.Bokeh !== undefined) {\n",
       "        clearInterval(timer);\n",
       "        embed_document(root);\n",
       "      } else if (document.readyState == \"complete\") {\n",
       "        attempts++;\n",
       "        if (attempts > 100) {\n",
       "          clearInterval(timer);\n",
       "          console.log(\"Bokeh: ERROR: Unable to run BokehJS code because BokehJS library is missing\");\n",
       "        }\n",
       "      }\n",
       "    }, 10, root)\n",
       "  }\n",
       "})(window);</script>"
      ],
      "text/plain": [
       ":Curve   [DATE]   (swine_head_count)"
      ]
     },
     "execution_count": 29,
     "metadata": {
      "application/vnd.holoviews_exec.v0+json": {
       "id": "2015"
      }
     },
     "output_type": "execute_result"
    }
   ],
   "source": [
    "swine_head_count.hvplot.line(\n",
    "    label=\"Slaughtered Pig Count\",\n",
    "    height=400, \n",
    "    width=500)"
   ]
  },
  {
   "cell_type": "code",
   "execution_count": 30,
   "metadata": {},
   "outputs": [
    {
     "data": {},
     "metadata": {},
     "output_type": "display_data"
    },
    {
     "data": {
      "application/vnd.holoviews_exec.v0+json": "",
      "text/html": [
       "<div id='2184'>\n",
       "\n",
       "\n",
       "\n",
       "\n",
       "\n",
       "  <div class=\"bk-root\" id=\"682f8bff-1291-4185-8245-06074b91ccd7\" data-root-id=\"2184\"></div>\n",
       "</div>\n",
       "<script type=\"application/javascript\">(function(root) {\n",
       "  function embed_document(root) {\n",
       "  var docs_json = {\"aa414985-30bc-4923-93b3-e184d82fe7dc\":{\"roots\":{\"references\":[{\"attributes\":{\"margin\":[5,5,5,5],\"name\":\"HSpacer02656\",\"sizing_mode\":\"stretch_width\"},\"id\":\"2251\",\"type\":\"Spacer\"},{\"attributes\":{\"axis_label\":\"\",\"bounds\":\"auto\",\"formatter\":{\"id\":\"2230\"},\"major_label_orientation\":\"horizontal\",\"ticker\":{\"id\":\"2203\"}},\"id\":\"2202\",\"type\":\"LinearAxis\"},{\"attributes\":{},\"id\":\"2206\",\"type\":\"SaveTool\"},{\"attributes\":{},\"id\":\"2208\",\"type\":\"WheelZoomTool\"},{\"attributes\":{\"days\":[1,4,7,10,13,16,19,22,25,28]},\"id\":\"2240\",\"type\":\"DaysTicker\"},{\"attributes\":{\"text\":\"Hog Weights\",\"text_color\":{\"value\":\"black\"},\"text_font_size\":{\"value\":\"12pt\"}},\"id\":\"2190\",\"type\":\"Title\"},{\"attributes\":{},\"id\":\"2207\",\"type\":\"PanTool\"},{\"attributes\":{\"days\":[1,2,3,4,5,6,7,8,9,10,11,12,13,14,15,16,17,18,19,20,21,22,23,24,25,26,27,28,29,30,31]},\"id\":\"2239\",\"type\":\"DaysTicker\"},{\"attributes\":{\"days\":[1,8,15,22]},\"id\":\"2241\",\"type\":\"DaysTicker\"},{\"attributes\":{\"overlay\":{\"id\":\"2211\"}},\"id\":\"2209\",\"type\":\"BoxZoomTool\"},{\"attributes\":{\"line_alpha\":0.2,\"line_color\":\"#1f77b3\",\"line_width\":2,\"x\":{\"field\":\"DATE\"},\"y\":{\"field\":\"hog_weights\"}},\"id\":\"2224\",\"type\":\"Line\"},{\"attributes\":{},\"id\":\"2196\",\"type\":\"LinearScale\"},{\"attributes\":{\"days\":[1,15]},\"id\":\"2242\",\"type\":\"DaysTicker\"},{\"attributes\":{\"line_color\":\"#1f77b3\",\"line_width\":2,\"x\":{\"field\":\"DATE\"},\"y\":{\"field\":\"hog_weights\"}},\"id\":\"2222\",\"type\":\"Line\"},{\"attributes\":{},\"id\":\"2228\",\"type\":\"DatetimeTickFormatter\"},{\"attributes\":{},\"id\":\"2210\",\"type\":\"ResetTool\"},{\"attributes\":{\"months\":[0,1,2,3,4,5,6,7,8,9,10,11]},\"id\":\"2243\",\"type\":\"MonthsTicker\"},{\"attributes\":{},\"id\":\"2230\",\"type\":\"BasicTickFormatter\"},{\"attributes\":{\"children\":[{\"id\":\"2185\"},{\"id\":\"2189\"},{\"id\":\"2251\"}],\"margin\":[0,0,0,0],\"name\":\"Row02651\",\"tags\":[\"embedded\"]},\"id\":\"2184\",\"type\":\"Row\"},{\"attributes\":{},\"id\":\"2194\",\"type\":\"LinearScale\"},{\"attributes\":{\"axis\":{\"id\":\"2198\"},\"grid_line_color\":null,\"ticker\":null},\"id\":\"2201\",\"type\":\"Grid\"},{\"attributes\":{\"data_source\":{\"id\":\"2219\"},\"glyph\":{\"id\":\"2222\"},\"hover_glyph\":null,\"muted_glyph\":{\"id\":\"2224\"},\"nonselection_glyph\":{\"id\":\"2223\"},\"selection_glyph\":null,\"view\":{\"id\":\"2226\"}},\"id\":\"2225\",\"type\":\"GlyphRenderer\"},{\"attributes\":{\"axis_label\":\"DATE\",\"bounds\":\"auto\",\"formatter\":{\"id\":\"2228\"},\"major_label_orientation\":\"horizontal\",\"ticker\":{\"id\":\"2199\"}},\"id\":\"2198\",\"type\":\"DatetimeAxis\"},{\"attributes\":{\"end\":1588896000000.0,\"reset_end\":1588896000000.0,\"reset_start\":1556668800000.0,\"start\":1556668800000.0,\"tags\":[[[\"DATE\",\"DATE\",null]]]},\"id\":\"2186\",\"type\":\"Range1d\"},{\"attributes\":{\"source\":{\"id\":\"2219\"}},\"id\":\"2226\",\"type\":\"CDSView\"},{\"attributes\":{\"months\":[0,2,4,6,8,10]},\"id\":\"2244\",\"type\":\"MonthsTicker\"},{\"attributes\":{\"end\":222.995,\"reset_end\":222.995,\"reset_start\":205.655,\"start\":205.655,\"tags\":[[[\"hog_weights\",\"hog_weights\",null]]]},\"id\":\"2187\",\"type\":\"Range1d\"},{\"attributes\":{\"num_minor_ticks\":5,\"tickers\":[{\"id\":\"2236\"},{\"id\":\"2237\"},{\"id\":\"2238\"},{\"id\":\"2239\"},{\"id\":\"2240\"},{\"id\":\"2241\"},{\"id\":\"2242\"},{\"id\":\"2243\"},{\"id\":\"2244\"},{\"id\":\"2245\"},{\"id\":\"2246\"},{\"id\":\"2247\"}]},\"id\":\"2199\",\"type\":\"DatetimeTicker\"},{\"attributes\":{\"margin\":[5,5,5,5],\"name\":\"HSpacer02655\",\"sizing_mode\":\"stretch_width\"},\"id\":\"2185\",\"type\":\"Spacer\"},{\"attributes\":{\"data\":{\"DATE\":{\"__ndarray__\":\"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\",\"dtype\":\"float64\",\"shape\":[259]},\"hog_weights\":{\"__ndarray__\":\"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\",\"dtype\":\"float64\",\"shape\":[259]}},\"selected\":{\"id\":\"2220\"},\"selection_policy\":{\"id\":\"2249\"}},\"id\":\"2219\",\"type\":\"ColumnDataSource\"},{\"attributes\":{\"months\":[0,4,8]},\"id\":\"2245\",\"type\":\"MonthsTicker\"},{\"attributes\":{},\"id\":\"2249\",\"type\":\"UnionRenderers\"},{\"attributes\":{\"months\":[0,6]},\"id\":\"2246\",\"type\":\"MonthsTicker\"},{\"attributes\":{},\"id\":\"2203\",\"type\":\"BasicTicker\"},{\"attributes\":{\"base\":60,\"mantissas\":[1,2,5,10,15,20,30],\"max_interval\":1800000.0,\"min_interval\":1000.0,\"num_minor_ticks\":0},\"id\":\"2237\",\"type\":\"AdaptiveTicker\"},{\"attributes\":{\"axis\":{\"id\":\"2202\"},\"dimension\":1,\"grid_line_color\":null,\"ticker\":null},\"id\":\"2205\",\"type\":\"Grid\"},{\"attributes\":{\"callback\":null,\"formatters\":{\"@{DATE}\":\"datetime\"},\"renderers\":[{\"id\":\"2225\"}],\"tags\":[\"hv_created\"],\"tooltips\":[[\"DATE\",\"@{DATE}{%F %T}\"],[\"hog_weights\",\"@{hog_weights}\"]]},\"id\":\"2188\",\"type\":\"HoverTool\"},{\"attributes\":{\"active_drag\":\"auto\",\"active_inspect\":\"auto\",\"active_multi\":null,\"active_scroll\":\"auto\",\"active_tap\":\"auto\",\"tools\":[{\"id\":\"2188\"},{\"id\":\"2206\"},{\"id\":\"2207\"},{\"id\":\"2208\"},{\"id\":\"2209\"},{\"id\":\"2210\"}]},\"id\":\"2212\",\"type\":\"Toolbar\"},{\"attributes\":{\"align\":null,\"below\":[{\"id\":\"2198\"}],\"center\":[{\"id\":\"2201\"},{\"id\":\"2205\"}],\"left\":[{\"id\":\"2202\"}],\"margin\":null,\"min_border_bottom\":10,\"min_border_left\":10,\"min_border_right\":10,\"min_border_top\":10,\"plot_height\":400,\"plot_width\":500,\"renderers\":[{\"id\":\"2225\"}],\"sizing_mode\":\"fixed\",\"title\":{\"id\":\"2190\"},\"toolbar\":{\"id\":\"2212\"},\"x_range\":{\"id\":\"2186\"},\"x_scale\":{\"id\":\"2194\"},\"y_range\":{\"id\":\"2187\"},\"y_scale\":{\"id\":\"2196\"}},\"id\":\"2189\",\"subtype\":\"Figure\",\"type\":\"Plot\"},{\"attributes\":{\"bottom_units\":\"screen\",\"fill_alpha\":0.5,\"fill_color\":\"lightgrey\",\"left_units\":\"screen\",\"level\":\"overlay\",\"line_alpha\":1.0,\"line_color\":\"black\",\"line_dash\":[4,4],\"line_width\":2,\"render_mode\":\"css\",\"right_units\":\"screen\",\"top_units\":\"screen\"},\"id\":\"2211\",\"type\":\"BoxAnnotation\"},{\"attributes\":{},\"id\":\"2247\",\"type\":\"YearsTicker\"},{\"attributes\":{\"mantissas\":[1,2,5],\"max_interval\":500.0,\"num_minor_ticks\":0},\"id\":\"2236\",\"type\":\"AdaptiveTicker\"},{\"attributes\":{},\"id\":\"2220\",\"type\":\"Selection\"},{\"attributes\":{\"base\":24,\"mantissas\":[1,2,4,6,8,12],\"max_interval\":43200000.0,\"min_interval\":3600000.0,\"num_minor_ticks\":0},\"id\":\"2238\",\"type\":\"AdaptiveTicker\"},{\"attributes\":{\"line_alpha\":0.1,\"line_color\":\"#1f77b3\",\"line_width\":2,\"x\":{\"field\":\"DATE\"},\"y\":{\"field\":\"hog_weights\"}},\"id\":\"2223\",\"type\":\"Line\"}],\"root_ids\":[\"2184\"]},\"title\":\"Bokeh Application\",\"version\":\"2.0.1\"}};\n",
       "  var render_items = [{\"docid\":\"aa414985-30bc-4923-93b3-e184d82fe7dc\",\"root_ids\":[\"2184\"],\"roots\":{\"2184\":\"682f8bff-1291-4185-8245-06074b91ccd7\"}}];\n",
       "  root.Bokeh.embed.embed_items_notebook(docs_json, render_items);\n",
       "  }\n",
       "if (root.Bokeh !== undefined) {\n",
       "    embed_document(root);\n",
       "  } else {\n",
       "    var attempts = 0;\n",
       "    var timer = setInterval(function(root) {\n",
       "      if (root.Bokeh !== undefined) {\n",
       "        clearInterval(timer);\n",
       "        embed_document(root);\n",
       "      } else if (document.readyState == \"complete\") {\n",
       "        attempts++;\n",
       "        if (attempts > 100) {\n",
       "          clearInterval(timer);\n",
       "          console.log(\"Bokeh: ERROR: Unable to run BokehJS code because BokehJS library is missing\");\n",
       "        }\n",
       "      }\n",
       "    }, 10, root)\n",
       "  }\n",
       "})(window);</script>"
      ],
      "text/plain": [
       ":Curve   [DATE]   (hog_weights)"
      ]
     },
     "execution_count": 30,
     "metadata": {
      "application/vnd.holoviews_exec.v0+json": {
       "id": "2184"
      }
     },
     "output_type": "execute_result"
    }
   ],
   "source": [
    "hog_weights.hvplot.line(\n",
    "    label=\"Hog Weights\",\n",
    "    height=400, width=500)"
   ]
  },
  {
   "cell_type": "code",
   "execution_count": 31,
   "metadata": {},
   "outputs": [],
   "source": [
    "def product_price_movement():\n",
    "    \"Hog Cuts Price Movement\"\n",
    "    \n",
    "    product_price_movement_panel = product_price.hvplot.line(\n",
    "    label=\"Product Price for Hog Parts\",\n",
    "    height=400,\n",
    "    width=500\n",
    "    ).opts(axiswise=True)\n",
    "    \n",
    "    return product_price_movement_panel"
   ]
  },
  {
   "cell_type": "code",
   "execution_count": 32,
   "metadata": {},
   "outputs": [],
   "source": [
    "def hog_weights_flucuation():\n",
    "    \"Hog Weights Flucuation\"\n",
    "    \n",
    "    hog_weights_flucuation_panel = hog_weights.hvplot.line(\n",
    "    label=\"Hog Weights\",\n",
    "    height=400, width=500).opts(axiswise=True)\n",
    "    \n",
    "    return hog_weights_flucuation_panel"
   ]
  },
  {
   "cell_type": "code",
   "execution_count": 33,
   "metadata": {},
   "outputs": [],
   "source": [
    "def hog_price_flucuation():\n",
    "    \"Hog Price Flucuation\"\n",
    "    \n",
    "    hog_price_flucuation_panel = hog_tops.hvplot.line(\n",
    "    label=\"Hog Carcass Price\",\n",
    "    height=400, \n",
    "    width=500).opts(axiswise=True)\n",
    "    \n",
    "    return hog_price_flucuation_panel"
   ]
  },
  {
   "cell_type": "code",
   "execution_count": 34,
   "metadata": {},
   "outputs": [],
   "source": [
    "def swine_count_flucuation():\n",
    "    \"Swine Flucuation\"\n",
    "    \n",
    "    swine_count_flucuation_panel = swine_head_count.hvplot.line(\n",
    "    label=\"Slaughter Pig Count\",\n",
    "    height=400, \n",
    "    width=500).opts(axiswise=True)\n",
    "    \n",
    "    return swine_count_flucuation_panel"
   ]
  },
  {
   "cell_type": "code",
   "execution_count": null,
   "metadata": {},
   "outputs": [],
   "source": []
  },
  {
   "cell_type": "code",
   "execution_count": null,
   "metadata": {},
   "outputs": [],
   "source": []
  },
  {
   "cell_type": "code",
   "execution_count": null,
   "metadata": {},
   "outputs": [],
   "source": []
  }
 ],
 "metadata": {
  "kernelspec": {
   "display_name": "Python 3",
   "language": "python",
   "name": "python3"
  },
  "language_info": {
   "codemirror_mode": {
    "name": "ipython",
    "version": 3
   },
   "file_extension": ".py",
   "mimetype": "text/x-python",
   "name": "python",
   "nbconvert_exporter": "python",
   "pygments_lexer": "ipython3",
   "version": "3.7.7"
  }
 },
 "nbformat": 4,
 "nbformat_minor": 4
}
